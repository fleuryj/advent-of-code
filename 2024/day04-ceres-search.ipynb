{
 "cells": [
  {
   "cell_type": "code",
   "execution_count": 1,
   "id": "f92e9d5d",
   "metadata": {},
   "outputs": [],
   "source": [
    "import numpy as np"
   ]
  },
  {
   "cell_type": "code",
   "execution_count": 2,
   "id": "5c9493ad",
   "metadata": {},
   "outputs": [],
   "source": [
    "with open(\"data/day04.txt\") as f:\n",
    "    data = f.readlines()"
   ]
  },
  {
   "cell_type": "code",
   "execution_count": 3,
   "id": "bf2ffa94",
   "metadata": {},
   "outputs": [],
   "source": [
    "crosswords = np.array([list(d.strip()) for d in data])\n",
    "rows, cols = crosswords.shape\n",
    "\n",
    "def letter(i, j):\n",
    "    if i < 0 or i >= rows or j < 0 or j >= cols:\n",
    "        return ''\n",
    "    return crosswords[i, j]"
   ]
  },
  {
   "cell_type": "markdown",
   "id": "646e6808",
   "metadata": {},
   "source": [
    "# Problem 1"
   ]
  },
  {
   "cell_type": "code",
   "execution_count": 4,
   "id": "127cc029",
   "metadata": {},
   "outputs": [
    {
     "data": {
      "text/plain": [
       "2557"
      ]
     },
     "execution_count": 4,
     "metadata": {},
     "output_type": "execute_result"
    }
   ],
   "source": [
    "directions = [(0, 1), (0, -1), (1, 0), (-1, 0), (1, 1), (1, -1), (-1, 1), (-1, -1)]\n",
    "\n",
    "total = 0\n",
    "for i in range(rows):\n",
    "    for j in range(cols):\n",
    "        for di, dj in directions:\n",
    "            if crosswords[i,j] != \"X\":\n",
    "                continue\n",
    "            if letter(i+di, j+dj) != \"M\":\n",
    "                continue\n",
    "            if letter(i+2*di, j+2*dj) != \"A\":\n",
    "                continue\n",
    "            if letter(i+3*di, j+3*dj) != \"S\":\n",
    "                continue\n",
    "            total += 1\n",
    "total"
   ]
  },
  {
   "cell_type": "markdown",
   "id": "658a34d2",
   "metadata": {},
   "source": [
    "# Problem 2"
   ]
  },
  {
   "cell_type": "code",
   "execution_count": 5,
   "id": "c9bec7de",
   "metadata": {},
   "outputs": [
    {
     "data": {
      "text/plain": [
       "1854"
      ]
     },
     "execution_count": 5,
     "metadata": {},
     "output_type": "execute_result"
    }
   ],
   "source": [
    "combinations = (list(\"SSMM\"), list(\"SMSM\"), list(\"MMSS\"), list(\"MSMS\"))\n",
    "\n",
    "total = 0\n",
    "for i in range(rows):\n",
    "    for j in range(cols):\n",
    "        for c in combinations:\n",
    "            if crosswords[i,j] != \"A\":\n",
    "                continue\n",
    "            if letter(i+1, j+1) != c[0]:\n",
    "                continue\n",
    "            if letter(i-1, j+1) != c[1]:\n",
    "                continue\n",
    "            if letter(i+1, j-1) != c[2]:\n",
    "                continue\n",
    "            if letter(i-1, j-1) != c[3]:\n",
    "                continue\n",
    "            total += 1     \n",
    "total"
   ]
  }
 ],
 "metadata": {
  "kernelspec": {
   "display_name": "Python 3 (ipykernel)",
   "language": "python",
   "name": "python3"
  },
  "language_info": {
   "codemirror_mode": {
    "name": "ipython",
    "version": 3
   },
   "file_extension": ".py",
   "mimetype": "text/x-python",
   "name": "python",
   "nbconvert_exporter": "python",
   "pygments_lexer": "ipython3",
   "version": "3.8.17"
  }
 },
 "nbformat": 4,
 "nbformat_minor": 5
}
