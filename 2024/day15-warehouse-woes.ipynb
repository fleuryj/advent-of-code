{
 "cells": [
  {
   "cell_type": "code",
   "execution_count": 1,
   "id": "c6bdd401",
   "metadata": {},
   "outputs": [],
   "source": [
    "import numpy as np"
   ]
  },
  {
   "cell_type": "code",
   "execution_count": 2,
   "id": "a158a49f",
   "metadata": {},
   "outputs": [],
   "source": [
    "with open(\"data/day15.txt\", encoding=\"utf-8\") as f:\n",
    "    data = f.read()"
   ]
  },
  {
   "cell_type": "code",
   "execution_count": 3,
   "id": "3e04fe36",
   "metadata": {},
   "outputs": [],
   "source": [
    "split_data = data.split(\"\\n\\n\")\n",
    "world_string, instructions = split_data[0], split_data[1].replace(\"\\n\", \"\")\n",
    "directions = [(0, 1), (1, 0), (0, -1), (-1, 0)]\n",
    "instructions_map = {\n",
    "    \">\": (0, 1),\n",
    "    \"v\": (1, 0),\n",
    "    \"<\": (0, -1),\n",
    "    \"^\": (-1, 0),\n",
    "}\n",
    "instructions = [instructions_map[i] for i in instructions]"
   ]
  },
  {
   "cell_type": "markdown",
   "id": "1458aca1",
   "metadata": {},
   "source": [
    "# Problem 1"
   ]
  },
  {
   "cell_type": "code",
   "execution_count": 4,
   "id": "28df00b1",
   "metadata": {
    "scrolled": false
   },
   "outputs": [
    {
     "data": {
      "text/plain": [
       "1497888"
      ]
     },
     "execution_count": 4,
     "metadata": {},
     "output_type": "execute_result"
    }
   ],
   "source": [
    "world = np.array([list(w) for w in world_string.split(\"\\n\")])\n",
    "rows, cols = world.shape\n",
    "start_robot = [(i, j) for i in range(rows) for j in range(cols) if world[i, j] == \"@\"][0]\n",
    "\n",
    "def move(pos, d):\n",
    "    new_pos = (pos[0] + d[0], pos[1] + d[1])\n",
    "    obstacle = world[new_pos]\n",
    "    if obstacle != \"#\" and (obstacle == \".\" or move(new_pos, d)): \n",
    "        world[new_pos] = world[pos]\n",
    "        world[pos] = \".\"\n",
    "        return True\n",
    "    return False\n",
    "    \n",
    "\n",
    "robot = start_robot\n",
    "for direction in instructions:\n",
    "    if move(robot, direction):\n",
    "        robot = (robot[0] + direction[0], robot[1] + direction[1])\n",
    "        \n",
    "boxes = [(i, j) for i in range(rows) for j in range(cols) if world[i, j] == \"O\"]\n",
    "sum([100 * i + j for i,j in boxes])"
   ]
  },
  {
   "cell_type": "markdown",
   "id": "a69c2a98",
   "metadata": {},
   "source": [
    "# Problem 2"
   ]
  },
  {
   "cell_type": "code",
   "execution_count": 5,
   "id": "1de1eab0",
   "metadata": {
    "scrolled": true
   },
   "outputs": [
    {
     "data": {
      "text/plain": [
       "1522420"
      ]
     },
     "execution_count": 5,
     "metadata": {},
     "output_type": "execute_result"
    }
   ],
   "source": [
    "symbol_map = {\n",
    "    \"#\": [\"#\", \"#\"],\n",
    "    \"O\": [\"[\", \"]\"],\n",
    "    \".\": [\".\", \".\"],\n",
    "    \"@\": [\"@\", \".\"]\n",
    "}\n",
    "double_world = np.array([[s for d in list(w) for s in symbol_map[d]] for w in world_string.split(\"\\n\")])\n",
    "rows, cols = double_world.shape\n",
    "start_robot = [(i, j) for i in range(rows) for j in range(cols) if double_world[i, j] == \"@\"][0]\n",
    "\n",
    "def can_move(pos, d):\n",
    "    new_pos = (pos[0] + d[0], pos[1] + d[1])\n",
    "    current = double_world[pos]\n",
    "    obstacle = double_world[new_pos]\n",
    "    \n",
    "    if double_world[new_pos] in [\"[\", \"]\"] and d[1] == 0:\n",
    "        poto = (new_pos[0], new_pos[1] + 1) if obstacle == \"[\" else (new_pos[0], new_pos[1] - 1)\n",
    "        return can_move(new_pos, d) and can_move(poto, d)\n",
    "    \n",
    "    return obstacle != \"#\" and (obstacle == \".\" or can_move(new_pos, d))\n",
    "\n",
    "def move(pos, d):\n",
    "    new_pos = (pos[0] + d[0], pos[1] + d[1])\n",
    "    if double_world[new_pos] != \".\":\n",
    "        if d[1] == 0:\n",
    "            if double_world[new_pos] in [\"[\", \"]\"]: \n",
    "                poto = (new_pos[0], new_pos[1] + 1) if double_world[new_pos] == \"[\" else (new_pos[0], new_pos[1] - 1)\n",
    "                move(poto, d)\n",
    "\n",
    "        move(new_pos, d)\n",
    "    \n",
    "    double_world[new_pos] = double_world[pos]\n",
    "    double_world[pos] = \".\"\n",
    "\n",
    "robot = start_robot\n",
    "for direction in instructions:\n",
    "    if can_move(robot, direction):\n",
    "        move(robot, direction)\n",
    "        robot = (robot[0] + direction[0], robot[1] + direction[1])\n",
    "        \n",
    "boxes = [(i, j) for i in range(rows) for j in range(cols) if double_world[i, j] == \"[\"]\n",
    "sum([100 * i + j for i,j in boxes])"
   ]
  }
 ],
 "metadata": {
  "kernelspec": {
   "display_name": "Python 3 (ipykernel)",
   "language": "python",
   "name": "python3"
  },
  "language_info": {
   "codemirror_mode": {
    "name": "ipython",
    "version": 3
   },
   "file_extension": ".py",
   "mimetype": "text/x-python",
   "name": "python",
   "nbconvert_exporter": "python",
   "pygments_lexer": "ipython3",
   "version": "3.8.17"
  }
 },
 "nbformat": 4,
 "nbformat_minor": 5
}
