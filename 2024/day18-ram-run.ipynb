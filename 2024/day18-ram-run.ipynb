{
 "cells": [
  {
   "cell_type": "code",
   "execution_count": 1,
   "id": "3254b290",
   "metadata": {},
   "outputs": [],
   "source": [
    "import re\n",
    "import networkx as nx\n",
    "import numpy as np"
   ]
  },
  {
   "cell_type": "code",
   "execution_count": 2,
   "id": "30baab6e",
   "metadata": {},
   "outputs": [],
   "source": [
    "with open(\"data/day18.txt\", encoding=\"utf-8\") as f:\n",
    "    data = f.read()"
   ]
  },
  {
   "cell_type": "code",
   "execution_count": 3,
   "id": "efea6b09",
   "metadata": {},
   "outputs": [],
   "source": [
    "corrupted_bytes = [(int(x), int(y)) for x, y in re.findall(\"(\\d+),(\\d+)\", data)]\n",
    "width, height = 71,71\n",
    "directions = [(0, 1), (1, 0), (0, -1), (-1, 0)]\n",
    "\n",
    "def is_valid(i, j):\n",
    "    return 0 <= i < width and 0 <= j < height"
   ]
  },
  {
   "cell_type": "markdown",
   "id": "9347abd2",
   "metadata": {},
   "source": [
    "# Problem 1"
   ]
  },
  {
   "cell_type": "code",
   "execution_count": 4,
   "id": "02128f03",
   "metadata": {},
   "outputs": [
    {
     "data": {
      "text/plain": [
       "436"
      ]
     },
     "execution_count": 4,
     "metadata": {},
     "output_type": "execute_result"
    }
   ],
   "source": [
    "G = nx.Graph()\n",
    "\n",
    "for i in range(width):\n",
    "    for j in range(height):\n",
    "        if (i, j) in corrupted_bytes[:1024]:\n",
    "            continue\n",
    "        G.add_edge((i, j), (i, j))\n",
    "        neighbours = [(i + d[0], j + d[1]) for d in directions]\n",
    "        for ni, nj in neighbours:\n",
    "            if (ni, nj) not in corrupted_bytes[:1024] and is_valid(ni, nj):\n",
    "                G.add_edge((i, j), (ni, nj))\n",
    "\n",
    "path_length = nx.shortest_path_length(G, source=(0, 0))\n",
    "path_length[(70, 70)]"
   ]
  },
  {
   "cell_type": "markdown",
   "id": "6e7ed531",
   "metadata": {},
   "source": [
    "# Problem 2"
   ]
  },
  {
   "cell_type": "code",
   "execution_count": 5,
   "id": "b67ba06f",
   "metadata": {},
   "outputs": [
    {
     "data": {
      "text/plain": [
       "(61, 50)"
      ]
     },
     "execution_count": 5,
     "metadata": {},
     "output_type": "execute_result"
    }
   ],
   "source": [
    "def path_corrupted(nb_bytes):\n",
    "    G = nx.Graph()\n",
    "    for i in range(width):\n",
    "        for j in range(height):\n",
    "            if (i, j) in corrupted_bytes[:nb_bytes]:\n",
    "                continue\n",
    "            G.add_edge((i, j), (i, j))\n",
    "            neighbours = [(i + d[0], j + d[1]) for d in directions]\n",
    "            for ni, nj in neighbours:\n",
    "                if (ni, nj) not in corrupted_bytes[:nb_bytes] and is_valid(ni, nj):\n",
    "                    G.add_edge((i, j), (ni, nj))\n",
    "    return nx.all_shortest_paths(G, source=(0, 0), target=(70, 70))\n",
    "\n",
    "def check_bytes(i):\n",
    "    try:\n",
    "        while True:\n",
    "            paths = path_corrupted(i)\n",
    "            for p in paths:\n",
    "                break\n",
    "            return True\n",
    "    except: \n",
    "        return False\n",
    "    \n",
    "start = 1025\n",
    "end = len(corrupted_bytes)\n",
    "\n",
    "while start <= end:\n",
    "    middle = (start + end) // 2\n",
    "    check = check_bytes(middle)\n",
    "    if check:\n",
    "        start = middle + 1\n",
    "    else:\n",
    "        end = middle - 1\n",
    "corrupted_bytes[middle]"
   ]
  }
 ],
 "metadata": {
  "kernelspec": {
   "display_name": "Python 3 (ipykernel)",
   "language": "python",
   "name": "python3"
  },
  "language_info": {
   "codemirror_mode": {
    "name": "ipython",
    "version": 3
   },
   "file_extension": ".py",
   "mimetype": "text/x-python",
   "name": "python",
   "nbconvert_exporter": "python",
   "pygments_lexer": "ipython3",
   "version": "3.8.17"
  }
 },
 "nbformat": 4,
 "nbformat_minor": 5
}
