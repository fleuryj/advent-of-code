{
 "cells": [
  {
   "cell_type": "code",
   "execution_count": 1,
   "id": "e79734e4",
   "metadata": {},
   "outputs": [],
   "source": [
    "import re"
   ]
  },
  {
   "cell_type": "code",
   "execution_count": 2,
   "id": "0069f5dc",
   "metadata": {},
   "outputs": [],
   "source": [
    "with open(\"data/day03.txt\") as f:\n",
    "    data = f.read()"
   ]
  },
  {
   "cell_type": "markdown",
   "id": "48d7034e",
   "metadata": {},
   "source": [
    "# Problem 1"
   ]
  },
  {
   "cell_type": "code",
   "execution_count": 3,
   "id": "80c877a1",
   "metadata": {},
   "outputs": [
    {
     "data": {
      "text/plain": [
       "183380722"
      ]
     },
     "execution_count": 3,
     "metadata": {},
     "output_type": "execute_result"
    }
   ],
   "source": [
    "valid_muls = re.findall(\"mul\\((\\d+),(\\d+)\\)\", data)\n",
    "sum([(int(m[0]) * int(m[1])) for m in valid_muls])"
   ]
  },
  {
   "cell_type": "markdown",
   "id": "3c88b2b0",
   "metadata": {},
   "source": [
    "# Problem 2"
   ]
  },
  {
   "cell_type": "code",
   "execution_count": 4,
   "id": "8fac45d0",
   "metadata": {},
   "outputs": [
    {
     "data": {
      "text/plain": [
       "82733683"
      ]
     },
     "execution_count": 4,
     "metadata": {},
     "output_type": "execute_result"
    }
   ],
   "source": [
    "all_muls = re.findall(\"(do\\(\\))|(don\\'t\\(\\))|mul\\((\\d+),(\\d+)\\)\", data)\n",
    "dos = [(i, True) for i, m in enumerate(all_muls) if m[0] != '']\n",
    "donts = [(i, False) for i, m in enumerate(all_muls) if m[1] != '']\n",
    "\n",
    "enabled_indices = [(-1, True)] + dos + donts\n",
    "enabled_indices.sort()\n",
    "\n",
    "valid_muls = []\n",
    "for i, (index, enabled) in enumerate(enabled_indices[:-1]):\n",
    "    if enabled:\n",
    "        valid_muls += all_muls[index+1:enabled_indices[i+1][0]]\n",
    "        \n",
    "sum([(int(m[2]) * int(m[3])) for m in valid_muls])   "
   ]
  }
 ],
 "metadata": {
  "kernelspec": {
   "display_name": "Python 3 (ipykernel)",
   "language": "python",
   "name": "python3"
  },
  "language_info": {
   "codemirror_mode": {
    "name": "ipython",
    "version": 3
   },
   "file_extension": ".py",
   "mimetype": "text/x-python",
   "name": "python",
   "nbconvert_exporter": "python",
   "pygments_lexer": "ipython3",
   "version": "3.8.17"
  }
 },
 "nbformat": 4,
 "nbformat_minor": 5
}
