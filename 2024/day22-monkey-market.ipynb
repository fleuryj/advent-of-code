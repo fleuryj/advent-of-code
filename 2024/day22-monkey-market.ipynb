{
 "cells": [
  {
   "cell_type": "code",
   "execution_count": 1,
   "id": "e6da2c68",
   "metadata": {},
   "outputs": [],
   "source": [
    "with open(\"data/day22.txt\", encoding=\"utf-8\") as f:\n",
    "    data = f.read()"
   ]
  },
  {
   "cell_type": "code",
   "execution_count": 2,
   "id": "4e2cf072",
   "metadata": {},
   "outputs": [],
   "source": [
    "secrets = [int(d) for d in data.split(\"\\n\")]\n",
    "def mix(secret, value):\n",
    "    return secret ^ value\n",
    "\n",
    "def prune(secret):\n",
    "    return secret % 16777216\n",
    "\n",
    "def new_secret(secret):\n",
    "    x = prune(mix(secret, secret * 64))\n",
    "    y = prune(mix(x, x // 32))\n",
    "    z = prune(mix(y, y * 2048))\n",
    "    return z"
   ]
  },
  {
   "cell_type": "markdown",
   "id": "428ddc36",
   "metadata": {},
   "source": [
    "# Problem 1"
   ]
  },
  {
   "cell_type": "code",
   "execution_count": 3,
   "id": "ac780500",
   "metadata": {},
   "outputs": [
    {
     "data": {
      "text/plain": [
       "13461553007"
      ]
     },
     "execution_count": 3,
     "metadata": {},
     "output_type": "execute_result"
    }
   ],
   "source": [
    "def n_secret(secret, n):\n",
    "    for i in range(n):\n",
    "        secret = new_secret(secret)\n",
    "    return secret\n",
    "\n",
    "sum([n_secret(secret, 2000) for secret in secrets])"
   ]
  },
  {
   "cell_type": "markdown",
   "id": "af71df6f",
   "metadata": {},
   "source": [
    "# Problem 2"
   ]
  },
  {
   "cell_type": "code",
   "execution_count": 4,
   "id": "7c571181",
   "metadata": {},
   "outputs": [
    {
     "data": {
      "text/plain": [
       "1499"
      ]
     },
     "execution_count": 4,
     "metadata": {},
     "output_type": "execute_result"
    }
   ],
   "source": [
    "def n_prices(secret, n):\n",
    "    new_prices = [int(str(secret)[-1])]\n",
    "    for i in range(n):\n",
    "        secret = new_secret(secret)\n",
    "        new_prices.append(int(str(secret)[-1]))\n",
    "    return new_prices\n",
    "\n",
    "nb_bananas_sequence = {}\n",
    "for secret in secrets:\n",
    "    price = n_prices(secret, 2000)\n",
    "    price_change = [n-o for o,n in zip(price, price[1:])]\n",
    "    already_seen = set()\n",
    "    for i in range(len(price_change) - 3):\n",
    "        sequence = tuple(price_change[i:i+4])\n",
    "        if sequence not in already_seen:\n",
    "            nb_bananas_sequence[sequence] = nb_bananas_sequence.get(sequence, 0) + price[i+4]\n",
    "        already_seen.add(sequence)\n",
    "max(nb_bananas_sequence.values())"
   ]
  }
 ],
 "metadata": {
  "kernelspec": {
   "display_name": "Python 3 (ipykernel)",
   "language": "python",
   "name": "python3"
  },
  "language_info": {
   "codemirror_mode": {
    "name": "ipython",
    "version": 3
   },
   "file_extension": ".py",
   "mimetype": "text/x-python",
   "name": "python",
   "nbconvert_exporter": "python",
   "pygments_lexer": "ipython3",
   "version": "3.8.17"
  }
 },
 "nbformat": 4,
 "nbformat_minor": 5
}
