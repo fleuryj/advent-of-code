{
 "cells": [
  {
   "cell_type": "code",
   "execution_count": 1,
   "id": "ea355297",
   "metadata": {},
   "outputs": [],
   "source": [
    "import numpy as np\n",
    "import networkx as nx"
   ]
  },
  {
   "cell_type": "code",
   "execution_count": 2,
   "id": "b6f9e8ee",
   "metadata": {},
   "outputs": [],
   "source": [
    "with open(\"data/day16.txt\", encoding=\"utf-8\") as f:\n",
    "    data = f.read()"
   ]
  },
  {
   "cell_type": "code",
   "execution_count": 3,
   "id": "bb36dbf6",
   "metadata": {},
   "outputs": [],
   "source": [
    "maze = np.array([list(d) for d in data.split(\"\\n\")])\n",
    "rows, cols = maze.shape\n",
    "start_position = [(i, j) for i in range(rows) for j in range(cols) if maze[i, j] == \"S\"][0]\n",
    "end_position = [(i, j) for i in range(rows) for j in range(cols) if maze[i, j] == \"E\"][0]\n",
    "directions = [(0, 1), (1, 0), (0, -1), (-1, 0)]"
   ]
  },
  {
   "cell_type": "markdown",
   "id": "3fbba445",
   "metadata": {},
   "source": [
    "# Problem 1"
   ]
  },
  {
   "cell_type": "code",
   "execution_count": 4,
   "id": "ee16b04c",
   "metadata": {},
   "outputs": [
    {
     "data": {
      "text/plain": [
       "135512"
      ]
     },
     "execution_count": 4,
     "metadata": {},
     "output_type": "execute_result"
    }
   ],
   "source": [
    "G = nx.Graph()\n",
    "\n",
    "for i in range(rows):\n",
    "    for j in range(cols):\n",
    "        if maze[i,j] == \"#\":\n",
    "            continue\n",
    "        G.add_edge((i, j, \"-\"), (i, j, \"|\"), cost=1000)\n",
    "        neighbours = [(i + d[0], j + d[1], \"-\" if d[0] == 0 else \"|\") for d in directions]\n",
    "        \n",
    "        for ni, nj, orientation in neighbours:\n",
    "            if maze[ni, nj] != \"#\":\n",
    "                G.add_edge((i, j, orientation), (ni, nj, orientation), cost=1)\n",
    "\n",
    "paths_cost = nx.shortest_path_length(G, source=(*start_position, \"-\"), weight=\"cost\")\n",
    "\n",
    "min(paths_cost[(*end_position, \"-\")], paths_cost[(*end_position, \"|\")])"
   ]
  },
  {
   "cell_type": "markdown",
   "id": "5d2ea8d8",
   "metadata": {},
   "source": [
    "# Problem 2"
   ]
  },
  {
   "cell_type": "code",
   "execution_count": 5,
   "id": "f563a512",
   "metadata": {},
   "outputs": [
    {
     "data": {
      "text/plain": [
       "541"
      ]
     },
     "execution_count": 5,
     "metadata": {},
     "output_type": "execute_result"
    }
   ],
   "source": [
    "G = nx.Graph()\n",
    "\n",
    "for i in range(rows):\n",
    "    for j in range(cols):\n",
    "        if maze[i,j] == \"#\":\n",
    "            continue\n",
    "        G.add_edge((i, j, \"-\"), (i, j, \"|\"), cost=1000)\n",
    "        neighbours = [(i + d[0], j + d[1], \"-\" if d[0] == 0 else \"|\") for d in directions]\n",
    "        \n",
    "        for ni, nj, orientation in neighbours:\n",
    "            if maze[ni, nj] != \"#\":\n",
    "                G.add_edge((i, j, orientation), (ni, nj, orientation), cost = 1)\n",
    "\n",
    "paths_end_vert = list(nx.all_shortest_paths(G, source=(*start_position, \"-\"), target=(*end_position, \"|\"), weight=\"cost\"))\n",
    "positions = { (pos[0], pos[1]) for path in paths_end_vert for pos in path }     \n",
    "len(positions)"
   ]
  }
 ],
 "metadata": {
  "kernelspec": {
   "display_name": "Python 3 (ipykernel)",
   "language": "python",
   "name": "python3"
  },
  "language_info": {
   "codemirror_mode": {
    "name": "ipython",
    "version": 3
   },
   "file_extension": ".py",
   "mimetype": "text/x-python",
   "name": "python",
   "nbconvert_exporter": "python",
   "pygments_lexer": "ipython3",
   "version": "3.8.17"
  }
 },
 "nbformat": 4,
 "nbformat_minor": 5
}
