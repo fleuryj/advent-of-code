{
 "cells": [
  {
   "cell_type": "code",
   "execution_count": 1,
   "id": "18b1c4ce",
   "metadata": {},
   "outputs": [],
   "source": [
    "import re"
   ]
  },
  {
   "cell_type": "code",
   "execution_count": 2,
   "id": "b060ea84",
   "metadata": {},
   "outputs": [],
   "source": [
    "with open(\"data/day17.txt\", encoding=\"utf-8\") as f:\n",
    "    data = f.read()"
   ]
  },
  {
   "cell_type": "code",
   "execution_count": 4,
   "id": "ad6c507a",
   "metadata": {},
   "outputs": [],
   "source": [
    "orig_registers, program = data.split(\"\\n\\n\")\n",
    "orig_registers = re.findall(\"Register ([A-C]): (\\d+)\", orig_registers)\n",
    "orig_registers = {k: int(v) for k,v in orig_registers}\n",
    "program = re.findall(\"Program: (.+)\", program)[0]\n",
    "program = program.split(\",\")\n",
    "program = [int(p) for p in program]\n",
    "\n",
    "def combo(operand):\n",
    "    if operand in [0, 1, 2, 3]:\n",
    "        return operand\n",
    "    if operand == 4:\n",
    "        return registers[\"A\"]\n",
    "    if operand == 5:\n",
    "        return registers[\"B\"]\n",
    "    if operand == 6:\n",
    "        return registers[\"C\"]\n",
    "    raise ValueError(f\"Invalid operand value: {operand}\")\n",
    "    \n",
    "def adv(operand):\n",
    "    registers[\"A\"] = registers[\"A\"] >> combo(operand)\n",
    "    return False, None\n",
    "    \n",
    "def bxl(operand):\n",
    "    registers[\"B\"] = registers[\"B\"] ^ operand\n",
    "    return False, None\n",
    "    \n",
    "def bst(operand):\n",
    "    registers[\"B\"] = combo(operand) % 8\n",
    "    return False, None\n",
    "\n",
    "def jnz(operand):\n",
    "    if registers[\"A\"] != 0:\n",
    "        return False, operand\n",
    "    return False, None\n",
    "    \n",
    "def bxc(operand):\n",
    "    registers[\"B\"] = registers[\"B\"] ^ registers[\"C\"]\n",
    "    return False, None\n",
    "    \n",
    "def out(operand):\n",
    "    return True, combo(operand) % 8\n",
    "\n",
    "def bdv(operand):\n",
    "    registers[\"B\"] = registers[\"A\"] >> combo(operand)\n",
    "    return False, None\n",
    "    \n",
    "def cdv(operand):\n",
    "    registers[\"C\"] = registers[\"A\"] >> combo(operand)\n",
    "    return False, None\n",
    "\n",
    "instructions = {\n",
    "    0: adv,\n",
    "    1: bxl,\n",
    "    2: bst,\n",
    "    3: jnz,\n",
    "    4: bxc,\n",
    "    5: out,\n",
    "    6: bdv,\n",
    "    7: cdv\n",
    "}"
   ]
  },
  {
   "cell_type": "markdown",
   "id": "0fd9d3f4",
   "metadata": {},
   "source": [
    "# Problem 1"
   ]
  },
  {
   "cell_type": "code",
   "execution_count": 5,
   "id": "4c43ce1d",
   "metadata": {
    "scrolled": true
   },
   "outputs": [
    {
     "data": {
      "text/plain": [
       "'2,0,1,3,4,0,2,1,7'"
      ]
     },
     "execution_count": 5,
     "metadata": {},
     "output_type": "execute_result"
    }
   ],
   "source": [
    "registers = orig_registers.copy()\n",
    "\n",
    "def output(program):\n",
    "    pointer = 0\n",
    "    res = []\n",
    "    while pointer < len(program):\n",
    "        opcode = program[pointer]\n",
    "        operand = program[pointer + 1]\n",
    "        output, value = instructions[opcode](operand)\n",
    "        if output:\n",
    "            res.append(value)\n",
    "            pointer += 2\n",
    "        elif value is not None:\n",
    "            pointer = value\n",
    "        else:\n",
    "            pointer += 2\n",
    "            \n",
    "    return res\n",
    "    \n",
    "\",\".join([str(o) for o in output(program)])"
   ]
  },
  {
   "cell_type": "markdown",
   "id": "644b8c22",
   "metadata": {},
   "source": [
    "# Problem 2"
   ]
  },
  {
   "cell_type": "code",
   "execution_count": 6,
   "id": "50b8f7fb",
   "metadata": {},
   "outputs": [
    {
     "data": {
      "text/plain": [
       "(True, 236580836040301)"
      ]
     },
     "execution_count": 6,
     "metadata": {},
     "output_type": "execute_result"
    }
   ],
   "source": [
    "def similar_output(a, program):\n",
    "    global registers\n",
    "    registers = {\"A\": a, \"B\": 0, \"C\": 0}\n",
    "    return output(program) == program\n",
    "\n",
    "def is_correct_output(a, result):\n",
    "    global registers\n",
    "    registers = {\"A\": a, \"B\": 0, \"C\": 0}\n",
    "    return output(program)[0] == result\n",
    "\n",
    "solutions = [0, 1, 2, 3, 4, 5, 6, 7]\n",
    "for res in program[::-1]:  \n",
    "    candidates = []\n",
    "    for i in range(8):\n",
    "        candidates.extend([new_a for a in solutions if is_correct_output(new_a := (a << 3) | i, res)])\n",
    "    solutions = candidates\n",
    "        \n",
    "solution = min(solutions)\n",
    "similar_output(solution, program), solution"
   ]
  }
 ],
 "metadata": {
  "kernelspec": {
   "display_name": "Python 3 (ipykernel)",
   "language": "python",
   "name": "python3"
  },
  "language_info": {
   "codemirror_mode": {
    "name": "ipython",
    "version": 3
   },
   "file_extension": ".py",
   "mimetype": "text/x-python",
   "name": "python",
   "nbconvert_exporter": "python",
   "pygments_lexer": "ipython3",
   "version": "3.8.17"
  }
 },
 "nbformat": 4,
 "nbformat_minor": 5
}
