{
 "cells": [
  {
   "cell_type": "code",
   "execution_count": 1,
   "id": "4ecac737",
   "metadata": {},
   "outputs": [],
   "source": [
    "import re\n",
    "import numpy as np\n",
    "from functools import reduce\n",
    "from itertools import product"
   ]
  },
  {
   "cell_type": "code",
   "execution_count": 2,
   "id": "a9795be4",
   "metadata": {},
   "outputs": [],
   "source": [
    "with open(\"data/day07.txt\") as f:\n",
    "    data = f.readlines()"
   ]
  },
  {
   "cell_type": "code",
   "execution_count": 3,
   "id": "040cb424",
   "metadata": {},
   "outputs": [],
   "source": [
    "equations = [re.findall(\"(\\d+):([\\d\\s]+)\", d) for d in data]\n",
    "equations = [[int(e[0][0])] + [int(v) for v in e[0][1].split(\" \") if v != \"\"] for e in equations]"
   ]
  },
  {
   "cell_type": "markdown",
   "id": "30226d96",
   "metadata": {},
   "source": [
    "# Problem 1"
   ]
  },
  {
   "cell_type": "code",
   "execution_count": 4,
   "id": "d4ac145a",
   "metadata": {},
   "outputs": [
    {
     "data": {
      "text/plain": [
       "303766880536"
      ]
     },
     "execution_count": 4,
     "metadata": {},
     "output_type": "execute_result"
    }
   ],
   "source": [
    "def add(a, b):\n",
    "    return a + b\n",
    "\n",
    "def multiply(a, b):\n",
    "    return a * b\n",
    "\n",
    "operators_map = {\"*\": multiply, \"+\": add}\n",
    "\n",
    "total = 0\n",
    "for equation in equations:\n",
    "    res = equation[0]\n",
    "    values = equation[1:]\n",
    "    operators = product([\"+\", \"*\"], repeat=len(values)-1)\n",
    "    \n",
    "    for operator_str in operators:\n",
    "        operator = [operators_map[op] for op in operator_str]\n",
    "        \n",
    "        def process(operator, x, y):\n",
    "            if type(x) is tuple:\n",
    "                return (x[0] + 1, operator[x[0]](x[1], y))\n",
    "            return (1, operator[0](x, y))\n",
    "\n",
    "        result = reduce(lambda x, y: process(operator, x, y), values)\n",
    "        \n",
    "        if result[1] == res:\n",
    "            total += res\n",
    "            break\n",
    "total"
   ]
  },
  {
   "cell_type": "markdown",
   "id": "740180e3",
   "metadata": {},
   "source": [
    "# Problem 2"
   ]
  },
  {
   "cell_type": "code",
   "execution_count": 5,
   "id": "5e28d888",
   "metadata": {},
   "outputs": [
    {
     "data": {
      "text/plain": [
       "337041851384440"
      ]
     },
     "execution_count": 5,
     "metadata": {},
     "output_type": "execute_result"
    }
   ],
   "source": [
    "def concat(a, b):\n",
    "    return int(str(a) + str(b))\n",
    "\n",
    "def check_result(res, acc, val):\n",
    "    if len(val) == 0:\n",
    "        return acc == res\n",
    "    \n",
    "    check_add = check_result(res, acc + val[0], val[1:])\n",
    "    check_mul = check_result(res, acc * val[0], val[1:])\n",
    "    check_concat = check_result(res, concat(acc, val[0]), val[1:])\n",
    "    return check_add or check_mul or check_concat\n",
    "\n",
    "total = 0\n",
    "for equation in equations:\n",
    "    res = equation[0]\n",
    "    values = equation[1:]\n",
    "    if check_result(res, values[0], values[1:]):\n",
    "        total += res\n",
    "        \n",
    "total"
   ]
  }
 ],
 "metadata": {
  "kernelspec": {
   "display_name": "Python 3 (ipykernel)",
   "language": "python",
   "name": "python3"
  },
  "language_info": {
   "codemirror_mode": {
    "name": "ipython",
    "version": 3
   },
   "file_extension": ".py",
   "mimetype": "text/x-python",
   "name": "python",
   "nbconvert_exporter": "python",
   "pygments_lexer": "ipython3",
   "version": "3.8.17"
  }
 },
 "nbformat": 4,
 "nbformat_minor": 5
}
