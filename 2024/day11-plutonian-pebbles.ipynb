{
 "cells": [
  {
   "cell_type": "code",
   "execution_count": 1,
   "id": "1b98d193",
   "metadata": {},
   "outputs": [],
   "source": [
    "with open(\"data/day11.txt\", encoding=\"utf-8\") as f:\n",
    "    data = f.read()"
   ]
  },
  {
   "cell_type": "code",
   "execution_count": 2,
   "id": "c1e87387",
   "metadata": {},
   "outputs": [],
   "source": [
    "stones = [d for d in data.split(\" \")]"
   ]
  },
  {
   "cell_type": "markdown",
   "id": "4854142e",
   "metadata": {},
   "source": [
    "# Problem 1"
   ]
  },
  {
   "cell_type": "code",
   "execution_count": 3,
   "id": "2d2dd2c9",
   "metadata": {
    "scrolled": true
   },
   "outputs": [
    {
     "data": {
      "text/plain": [
       "218079"
      ]
     },
     "execution_count": 3,
     "metadata": {},
     "output_type": "execute_result"
    }
   ],
   "source": [
    "blinked_stones = stones.copy()\n",
    "\n",
    "def blink(stone):\n",
    "    if stone == \"0\":\n",
    "        return [\"1\"]\n",
    "    \n",
    "    if len(stone) % 2 == 0:\n",
    "        half = len(stone) // 2\n",
    "        return [stone[:half], str(int(stone[half:]))]\n",
    "    \n",
    "    return [str(int(stone) * 2024)]\n",
    "\n",
    "for i in range(25):\n",
    "    blinked_stones = [s for stone in blinked_stones for s in blink(stone)]\n",
    "    \n",
    "len(blinked_stones)"
   ]
  },
  {
   "cell_type": "markdown",
   "id": "1cd4c7a6",
   "metadata": {},
   "source": [
    "# Problem 2"
   ]
  },
  {
   "cell_type": "code",
   "execution_count": 4,
   "id": "cc581882",
   "metadata": {},
   "outputs": [
    {
     "data": {
      "text/plain": [
       "259755538429618"
      ]
     },
     "execution_count": 4,
     "metadata": {},
     "output_type": "execute_result"
    }
   ],
   "source": [
    "blinks_map = {}\n",
    "\n",
    "def blink(stone, nb_blinks):\n",
    "    if nb_blinks == 0:\n",
    "        return 1\n",
    "    if (stone, nb_blinks) in blinks_map.keys():\n",
    "        return blinks_map[(stone, nb_blinks)]\n",
    "    \n",
    "    if stone == \"0\":\n",
    "        new_stones = [\"1\"]\n",
    "    elif len(stone) % 2 == 0:\n",
    "        half = len(stone) // 2\n",
    "        new_stones = [stone[:half], str(int(stone[half:]))]\n",
    "    else:\n",
    "        new_stones = [str(int(stone) * 2024)]\n",
    "    \n",
    "    nb_stones = sum([blink(new_stone, nb_blinks - 1) for new_stone in new_stones])\n",
    "    blinks_map[(stone, nb_blinks)] = nb_stones\n",
    "    return nb_stones\n",
    "\n",
    "sum([blink(stone, 75) for stone in stones])"
   ]
  }
 ],
 "metadata": {
  "kernelspec": {
   "display_name": "Python 3 (ipykernel)",
   "language": "python",
   "name": "python3"
  },
  "language_info": {
   "codemirror_mode": {
    "name": "ipython",
    "version": 3
   },
   "file_extension": ".py",
   "mimetype": "text/x-python",
   "name": "python",
   "nbconvert_exporter": "python",
   "pygments_lexer": "ipython3",
   "version": "3.8.17"
  }
 },
 "nbformat": 4,
 "nbformat_minor": 5
}
