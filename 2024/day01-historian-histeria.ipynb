{
 "cells": [
  {
   "cell_type": "code",
   "execution_count": 1,
   "id": "906d22a9",
   "metadata": {},
   "outputs": [],
   "source": [
    "import re\n",
    "import numpy as np\n",
    "from collections import Counter"
   ]
  },
  {
   "cell_type": "code",
   "execution_count": 2,
   "id": "e5cbb360",
   "metadata": {},
   "outputs": [],
   "source": [
    "with open(\"data/day01.txt\") as f:\n",
    "    data = f.read()"
   ]
  },
  {
   "cell_type": "code",
   "execution_count": 3,
   "id": "c97fe7d8",
   "metadata": {},
   "outputs": [],
   "source": [
    "pairs = re.findall('(\\d+)\\s+(\\d+)', data)\n",
    "left_list = np.array([int(p[0]) for p in pairs])\n",
    "right_list = np.array([int(p[1]) for p in pairs])"
   ]
  },
  {
   "cell_type": "markdown",
   "id": "bfca80c7",
   "metadata": {},
   "source": [
    "# Problem 1"
   ]
  },
  {
   "cell_type": "code",
   "execution_count": 4,
   "id": "1bb46bc8",
   "metadata": {},
   "outputs": [
    {
     "data": {
      "text/plain": [
       "2815556"
      ]
     },
     "execution_count": 4,
     "metadata": {},
     "output_type": "execute_result"
    }
   ],
   "source": [
    "left_sorted = np.sort(left_list)\n",
    "right_sorted = np.sort(right_list)\n",
    "\n",
    "sum(abs(left_sorted - right_sorted))"
   ]
  },
  {
   "cell_type": "markdown",
   "id": "4d4a4302",
   "metadata": {},
   "source": [
    "# Problem 2"
   ]
  },
  {
   "cell_type": "code",
   "execution_count": 5,
   "id": "b975948d",
   "metadata": {},
   "outputs": [
    {
     "data": {
      "text/plain": [
       "23927637"
      ]
     },
     "execution_count": 5,
     "metadata": {},
     "output_type": "execute_result"
    }
   ],
   "source": [
    "counter = Counter(right_list)\n",
    "sum([el * counter[el] for el in left_list])"
   ]
  }
 ],
 "metadata": {
  "kernelspec": {
   "display_name": "Python 3 (ipykernel)",
   "language": "python",
   "name": "python3"
  },
  "language_info": {
   "codemirror_mode": {
    "name": "ipython",
    "version": 3
   },
   "file_extension": ".py",
   "mimetype": "text/x-python",
   "name": "python",
   "nbconvert_exporter": "python",
   "pygments_lexer": "ipython3",
   "version": "3.8.17"
  }
 },
 "nbformat": 4,
 "nbformat_minor": 5
}
