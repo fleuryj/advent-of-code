{
 "cells": [
  {
   "cell_type": "code",
   "execution_count": 1,
   "id": "326e67bc",
   "metadata": {},
   "outputs": [],
   "source": [
    "import numpy as np"
   ]
  },
  {
   "cell_type": "code",
   "execution_count": 2,
   "id": "6cf4fb3d",
   "metadata": {},
   "outputs": [],
   "source": [
    "with open(\"data/day10.txt\", encoding=\"utf-8\") as f:\n",
    "    data = f.readlines()"
   ]
  },
  {
   "cell_type": "code",
   "execution_count": 3,
   "id": "a0d79285",
   "metadata": {},
   "outputs": [],
   "source": [
    "topo_map = np.array([[int(i) for i in list(heights.strip())] for heights in data])\n",
    "cols, rows = topo_map.shape\n",
    "trailheads = [(i, j) for i in range(rows) for j in range(cols) if topo_map[i,j] == 0]\n",
    "directions = [(-1, 0), (0, 1), (1, 0), (0, -1)]\n",
    "def is_valid(i, j):\n",
    "    return i >= 0 and i < rows and j >= 0 and j < cols"
   ]
  },
  {
   "cell_type": "markdown",
   "id": "d7d5d992",
   "metadata": {},
   "source": [
    "# Problem 1"
   ]
  },
  {
   "cell_type": "code",
   "execution_count": 4,
   "id": "40128667",
   "metadata": {},
   "outputs": [
    {
     "data": {
      "text/plain": [
       "531"
      ]
     },
     "execution_count": 4,
     "metadata": {},
     "output_type": "execute_result"
    }
   ],
   "source": [
    "def valid_path(last_height, pos):\n",
    "    height = topo_map[pos]\n",
    "    \n",
    "    if height - last_height != 1:\n",
    "        return set()\n",
    "    if height == 9:\n",
    "        return {pos}\n",
    "    \n",
    "    new_positions = [(pos[0] + d[0], pos[1] + d[1]) for d in directions]\n",
    "    found_tops = set()\n",
    "    for new_pos in new_positions:\n",
    "        if is_valid(*new_pos):\n",
    "            found_tops |= valid_path(height, new_pos)\n",
    "    return found_tops\n",
    "\n",
    "total = 0\n",
    "for trailhead in trailheads:\n",
    "    total += len(valid_path(-1, trailhead))\n",
    "total"
   ]
  },
  {
   "cell_type": "markdown",
   "id": "5ce6ba30",
   "metadata": {},
   "source": [
    "# Problem 2"
   ]
  },
  {
   "cell_type": "code",
   "execution_count": 5,
   "id": "69b25ca0",
   "metadata": {},
   "outputs": [
    {
     "data": {
      "text/plain": [
       "1210"
      ]
     },
     "execution_count": 5,
     "metadata": {},
     "output_type": "execute_result"
    }
   ],
   "source": [
    "def valid_path(last_height, pos):\n",
    "    height = topo_map[pos]\n",
    "    \n",
    "    if height - last_height != 1:\n",
    "        return []\n",
    "    if height == 9:\n",
    "        return [pos]\n",
    "    \n",
    "    new_positions = [(pos[0] + d[0], pos[1] + d[1]) for d in directions]\n",
    "    found_tops = []\n",
    "    for new_pos in new_positions:\n",
    "        if is_valid(*new_pos):\n",
    "            found_tops += valid_path(height, new_pos)\n",
    "    return found_tops\n",
    "\n",
    "total = 0\n",
    "for trailhead in trailheads:\n",
    "    total += len(valid_path(-1, trailhead))\n",
    "total"
   ]
  }
 ],
 "metadata": {
  "kernelspec": {
   "display_name": "Python 3 (ipykernel)",
   "language": "python",
   "name": "python3"
  },
  "language_info": {
   "codemirror_mode": {
    "name": "ipython",
    "version": 3
   },
   "file_extension": ".py",
   "mimetype": "text/x-python",
   "name": "python",
   "nbconvert_exporter": "python",
   "pygments_lexer": "ipython3",
   "version": "3.8.17"
  }
 },
 "nbformat": 4,
 "nbformat_minor": 5
}
