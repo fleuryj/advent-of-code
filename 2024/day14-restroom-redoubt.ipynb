{
 "cells": [
  {
   "cell_type": "code",
   "execution_count": 1,
   "id": "8d2aef50",
   "metadata": {},
   "outputs": [],
   "source": [
    "import re\n",
    "import numpy as np"
   ]
  },
  {
   "cell_type": "code",
   "execution_count": 2,
   "id": "e921c162",
   "metadata": {},
   "outputs": [],
   "source": [
    "with open(\"data/day14.txt\", encoding=\"utf-8\") as f:\n",
    "    data = f.readlines()\n",
    "    \n",
    "width = 101\n",
    "height = 103"
   ]
  },
  {
   "cell_type": "code",
   "execution_count": 3,
   "id": "ed57ec03",
   "metadata": {},
   "outputs": [],
   "source": [
    "robots = [re.findall(\"p=(-?\\d+),(-?\\d+) v=(-?\\d+),(-?\\d+)\", d) for d in data]\n",
    "robots = [((int(d[0]), int(d[1])), (int(d[2]), int(d[3]))) for ds in robots for d in ds]"
   ]
  },
  {
   "cell_type": "markdown",
   "id": "6f4bb629",
   "metadata": {},
   "source": [
    "# Problem 1"
   ]
  },
  {
   "cell_type": "code",
   "execution_count": 4,
   "id": "4e5710f0",
   "metadata": {},
   "outputs": [
    {
     "data": {
      "text/plain": [
       "233709840.0"
      ]
     },
     "execution_count": 4,
     "metadata": {},
     "output_type": "execute_result"
    }
   ],
   "source": [
    "world = np.zeros((height, width))\n",
    "def move(dt):\n",
    "    positions = set()\n",
    "    for robot in robots:\n",
    "        new_position = ((robot[0][1] + dt * robot[1][1]) % height, (robot[0][0] + dt * robot[1][0]) % width)\n",
    "        world[new_position] += 1\n",
    "        positions.add(new_position)\n",
    "    return positions\n",
    "\n",
    "mid_width = width // 2\n",
    "mid_height = height // 2\n",
    "move(100)\n",
    "\n",
    "np.sum(world[:mid_height, :mid_width]) \\\n",
    "* np.sum(world[mid_height+1:, :mid_width]) \\\n",
    "* np.sum(world[:mid_height, mid_width+1:]) \\\n",
    "* np.sum(world[mid_height+1:, mid_width+1:])"
   ]
  },
  {
   "cell_type": "markdown",
   "id": "cb18b4aa",
   "metadata": {},
   "source": [
    "# Problem 2"
   ]
  },
  {
   "cell_type": "code",
   "execution_count": 5,
   "id": "6d458b20",
   "metadata": {},
   "outputs": [
    {
     "data": {
      "text/plain": [
       "6620"
      ]
     },
     "execution_count": 5,
     "metadata": {},
     "output_type": "execute_result"
    }
   ],
   "source": [
    "directions = [(0, 1), (1, 0), (0, -1), (-1, 0)]\n",
    "\n",
    "def is_cluster(positions):\n",
    "    nb_clusters = 0\n",
    "    for pos in positions:\n",
    "        if all([(pos[0] + d[0], pos[1] + d[1]) in positions for d in directions]):\n",
    "            nb_clusters += 1\n",
    "    return nb_clusters > 5\n",
    "        \n",
    "dt = 0\n",
    "positions = move(dt)\n",
    "while not is_cluster(positions):\n",
    "    dt += 1\n",
    "    positions = move(dt)\n",
    "dt"
   ]
  }
 ],
 "metadata": {
  "kernelspec": {
   "display_name": "Python 3 (ipykernel)",
   "language": "python",
   "name": "python3"
  },
  "language_info": {
   "codemirror_mode": {
    "name": "ipython",
    "version": 3
   },
   "file_extension": ".py",
   "mimetype": "text/x-python",
   "name": "python",
   "nbconvert_exporter": "python",
   "pygments_lexer": "ipython3",
   "version": "3.8.17"
  }
 },
 "nbformat": 4,
 "nbformat_minor": 5
}
