{
 "cells": [
  {
   "cell_type": "code",
   "execution_count": 51,
   "id": "6b7e69ff",
   "metadata": {},
   "outputs": [],
   "source": [
    "import re\n",
    "import networkx as nx"
   ]
  },
  {
   "cell_type": "code",
   "execution_count": 119,
   "id": "286696bc",
   "metadata": {},
   "outputs": [],
   "source": [
    "with open(\"data/day23.txt\") as f:\n",
    "    data = f.read()"
   ]
  },
  {
   "cell_type": "code",
   "execution_count": 122,
   "id": "4ff01f3f",
   "metadata": {},
   "outputs": [],
   "source": [
    "connections = [re.findall(\"([a-z]+)\", d) for d in data.split(\"\\n\")]\n",
    "G = nx.Graph()\n",
    "for s, e in connections:\n",
    "    G.add_edge(s, e)"
   ]
  },
  {
   "cell_type": "markdown",
   "id": "2bfac9ac",
   "metadata": {},
   "source": [
    "# Problem 1"
   ]
  },
  {
   "cell_type": "code",
   "execution_count": 123,
   "id": "608f5b3f",
   "metadata": {},
   "outputs": [
    {
     "data": {
      "text/plain": [
       "1194"
      ]
     },
     "execution_count": 123,
     "metadata": {},
     "output_type": "execute_result"
    }
   ],
   "source": [
    "sum([any([c[0] == \"t\" for c in cycle]) for cycle in nx.simple_cycles(G, 3)])"
   ]
  },
  {
   "cell_type": "markdown",
   "id": "f4cea080",
   "metadata": {},
   "source": [
    "# Problem 2"
   ]
  },
  {
   "cell_type": "code",
   "execution_count": 125,
   "id": "c3719621",
   "metadata": {},
   "outputs": [
    {
     "data": {
      "text/plain": [
       "'bd,bu,dv,gl,qc,rn,so,tm,wf,yl,ys,ze,zr'"
      ]
     },
     "execution_count": 125,
     "metadata": {},
     "output_type": "execute_result"
    }
   ],
   "source": [
    "\",\".join(sorted([sorted(list(nx.find_cliques(G)), key=lambda x: len(x))][0][-1]))"
   ]
  }
 ],
 "metadata": {
  "kernelspec": {
   "display_name": "Python 3 (ipykernel)",
   "language": "python",
   "name": "python3"
  },
  "language_info": {
   "codemirror_mode": {
    "name": "ipython",
    "version": 3
   },
   "file_extension": ".py",
   "mimetype": "text/x-python",
   "name": "python",
   "nbconvert_exporter": "python",
   "pygments_lexer": "ipython3",
   "version": "3.8.17"
  }
 },
 "nbformat": 4,
 "nbformat_minor": 5
}
