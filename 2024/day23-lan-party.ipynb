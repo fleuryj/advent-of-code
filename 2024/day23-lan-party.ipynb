{
 "cells": [
  {
   "cell_type": "code",
   "execution_count": 1,
   "id": "6b7e69ff",
   "metadata": {},
   "outputs": [],
   "source": [
    "import re\n",
    "import networkx as nx"
   ]
  },
  {
   "cell_type": "code",
   "execution_count": 2,
   "id": "286696bc",
   "metadata": {},
   "outputs": [],
   "source": [
    "with open(\"data/day23.txt\") as f:\n",
    "    data = f.read()"
   ]
  },
  {
   "cell_type": "code",
   "execution_count": 3,
   "id": "4ff01f3f",
   "metadata": {},
   "outputs": [],
   "source": [
    "connections = [re.findall(\"([a-z]+)\", d) for d in data.split(\"\\n\")]\n",
    "G = nx.Graph()\n",
    "for s, e in connections:\n",
    "    G.add_edge(s, e)"
   ]
  },
  {
   "cell_type": "markdown",
   "id": "2bfac9ac",
   "metadata": {},
   "source": [
    "# Problem 1"
   ]
  },
  {
   "cell_type": "code",
   "execution_count": 4,
   "id": "608f5b3f",
   "metadata": {},
   "outputs": [
    {
     "data": {
      "text/plain": [
       "1194"
      ]
     },
     "execution_count": 4,
     "metadata": {},
     "output_type": "execute_result"
    }
   ],
   "source": [
    "sum([any([c[0] == \"t\" for c in cycle]) for cycle in nx.simple_cycles(G, 3)])"
   ]
  },
  {
   "cell_type": "code",
   "execution_count": 5,
   "id": "41877dae",
   "metadata": {},
   "outputs": [
    {
     "data": {
      "text/plain": [
       "1194"
      ]
     },
     "execution_count": 5,
     "metadata": {},
     "output_type": "execute_result"
    }
   ],
   "source": [
    "total = 0\n",
    "valid_cycles = set()\n",
    "for computer1, computer2 in G.edges():\n",
    "    for computer3 in [n for n in G.nodes() if n[0] == \"t\"]:\n",
    "        if G.has_edge(computer1, computer3) and G.has_edge(computer2, computer3):\n",
    "            valid_cycles.add(\"\".join(sorted([computer1, computer2, computer3])))\n",
    "len(valid_cycles)"
   ]
  },
  {
   "cell_type": "markdown",
   "id": "f4cea080",
   "metadata": {},
   "source": [
    "# Problem 2"
   ]
  },
  {
   "cell_type": "code",
   "execution_count": 8,
   "id": "c3719621",
   "metadata": {},
   "outputs": [
    {
     "data": {
      "text/plain": [
       "'bd,bu,dv,gl,qc,rn,so,tm,wf,yl,ys,ze,zr'"
      ]
     },
     "execution_count": 8,
     "metadata": {},
     "output_type": "execute_result"
    }
   ],
   "source": [
    "\",\".join(sorted([sorted(list(nx.find_cliques(G)), key=lambda x: len(x))][0][-1]))"
   ]
  },
  {
   "cell_type": "code",
   "execution_count": 13,
   "id": "32cf3158",
   "metadata": {},
   "outputs": [
    {
     "data": {
      "text/plain": [
       "'bd,bu,dv,gl,qc,rn,so,tm,wf,yl,ys,ze,zr'"
      ]
     },
     "execution_count": 13,
     "metadata": {},
     "output_type": "execute_result"
    }
   ],
   "source": [
    "connected = {}\n",
    "for computer1 in G.nodes():\n",
    "    for computer2 in G.nodes():\n",
    "        if computer1 == computer2:\n",
    "            continue\n",
    "        if G.has_edge(computer1, computer2):\n",
    "            connected[computer1] = connected.get(computer1, []) + [computer2]\n",
    "            \n",
    "def biggest_group(computer, current, friends, visited):\n",
    "    common_friends = [f for f in connected[computer] if f in friends and f not in visited]\n",
    "    if len(common_friends) == 0:\n",
    "        return current + [computer]\n",
    "    \n",
    "    visited.append(computer)\n",
    "    new_friends = []\n",
    "    for f in common_friends:\n",
    "        if f not in visited:\n",
    "            new_friends.append(biggest_group(f, current + [computer], common_friends, visited))\n",
    "\n",
    "    new_friend = sorted(new_friends, key= lambda x: -len(x))[0]\n",
    "    return new_friend\n",
    "\n",
    "max_len = 0\n",
    "group = None\n",
    "already_seen = set()\n",
    "for n in G.nodes():\n",
    "    gr = biggest_group(n, [], G.nodes(), [])\n",
    "    for g in gr:\n",
    "        already_seen.add(g)\n",
    "    if len(gr) > max_len:\n",
    "        max_len = len(gr)\n",
    "        group = gr\n",
    "\",\".join(sorted(group))"
   ]
  }
 ],
 "metadata": {
  "kernelspec": {
   "display_name": "Python 3 (ipykernel)",
   "language": "python",
   "name": "python3"
  },
  "language_info": {
   "codemirror_mode": {
    "name": "ipython",
    "version": 3
   },
   "file_extension": ".py",
   "mimetype": "text/x-python",
   "name": "python",
   "nbconvert_exporter": "python",
   "pygments_lexer": "ipython3",
   "version": "3.8.17"
  }
 },
 "nbformat": 4,
 "nbformat_minor": 5
}
