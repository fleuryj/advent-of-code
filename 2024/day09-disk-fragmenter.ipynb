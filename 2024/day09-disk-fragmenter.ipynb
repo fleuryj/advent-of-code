{
 "cells": [
  {
   "cell_type": "code",
   "execution_count": 1,
   "id": "3d7091ee",
   "metadata": {},
   "outputs": [],
   "source": [
    "with open(\"data/day09.txt\", encoding=\"utf-8\") as f:\n",
    "    data = f.read()"
   ]
  },
  {
   "cell_type": "code",
   "execution_count": 2,
   "id": "c472b011",
   "metadata": {},
   "outputs": [],
   "source": [
    "def get_symbol(i, d):\n",
    "    return [\".\"] * int(d) if i % 2 == 1 else [f\"{i // 2}\"] * int(d)\n",
    "\n",
    "disk_map = [el for i,d in enumerate(data) for el in get_symbol(i, d)]"
   ]
  },
  {
   "cell_type": "markdown",
   "id": "3450b45c",
   "metadata": {},
   "source": [
    "# Problem 1"
   ]
  },
  {
   "cell_type": "code",
   "execution_count": 3,
   "id": "e1b7767f",
   "metadata": {},
   "outputs": [
    {
     "data": {
      "text/plain": [
       "6337367222422"
      ]
     },
     "execution_count": 3,
     "metadata": {},
     "output_type": "execute_result"
    }
   ],
   "source": [
    "swapped_disk_map = disk_map.copy()\n",
    "space_index = 0\n",
    "file_index = len(swapped_disk_map) - 1\n",
    "\n",
    "while space_index < file_index:\n",
    "    space = swapped_disk_map[space_index]\n",
    "    file = swapped_disk_map[file_index]\n",
    "    \n",
    "    if space == \".\" and file != \".\":\n",
    "        swapped_disk_map[space_index] = file\n",
    "        swapped_disk_map[file_index] = space\n",
    "        continue\n",
    "        \n",
    "    space_index += 1 if space != \".\" else 0\n",
    "    file_index -= 1 if file == \".\" else 0\n",
    "    \n",
    "sum([i * int(el) for i, el in enumerate(swapped_disk_map) if el != \".\"])"
   ]
  },
  {
   "cell_type": "markdown",
   "id": "5bf1a072",
   "metadata": {},
   "source": [
    "# Problem 2"
   ]
  },
  {
   "cell_type": "code",
   "execution_count": 4,
   "id": "6c80f837",
   "metadata": {},
   "outputs": [
    {
     "data": {
      "text/plain": [
       "6361380647183"
      ]
     },
     "execution_count": 4,
     "metadata": {},
     "output_type": "execute_result"
    }
   ],
   "source": [
    "swapped_disk_map = disk_map.copy()\n",
    "\n",
    "def swap_file(file_index, file, file_size):\n",
    "    space_index = 0\n",
    "    space_size = 0\n",
    "    \n",
    "    first_space_index = 0\n",
    "    while space_index < file_index:\n",
    "        space = swapped_disk_map[space_index]\n",
    "        if space == \".\":\n",
    "            if first_space_index == 0:\n",
    "                first_space_index = space_index\n",
    "            space_size += 1\n",
    "        else:\n",
    "            space_size = 0\n",
    "         \n",
    "        if space_size == file_size:\n",
    "            for i in range(file_size):\n",
    "                swapped_disk_map[space_index - i] = file\n",
    "                swapped_disk_map[file_index + i] = \".\"\n",
    "            return first_space_index\n",
    "        \n",
    "        space_index += 1\n",
    "    return first_space_index\n",
    "  \n",
    "file_index = len(swapped_disk_map) - 1\n",
    "first_space_index = 0\n",
    "current_file = None\n",
    "file_size = 0\n",
    "\n",
    "while file_index > first_space_index:\n",
    "    file = swapped_disk_map[file_index]\n",
    "    \n",
    "    if current_file == None:\n",
    "        if file != \".\":\n",
    "            current_file = file\n",
    "            file_size += 1\n",
    "        file_index -= 1\n",
    "        continue\n",
    "    \n",
    "    if file == current_file:\n",
    "        file_size += 1\n",
    "        file_index -= 1\n",
    "        continue\n",
    "    \n",
    "    first_space_index = swap_file(file_index + 1, current_file, file_size)\n",
    "    current_file = None\n",
    "    file_size = 0\n",
    "    \n",
    "sum([i * int(el) for i, el in enumerate(swapped_disk_map) if el != \".\"])"
   ]
  }
 ],
 "metadata": {
  "kernelspec": {
   "display_name": "Python 3 (ipykernel)",
   "language": "python",
   "name": "python3"
  },
  "language_info": {
   "codemirror_mode": {
    "name": "ipython",
    "version": 3
   },
   "file_extension": ".py",
   "mimetype": "text/x-python",
   "name": "python",
   "nbconvert_exporter": "python",
   "pygments_lexer": "ipython3",
   "version": "3.8.17"
  }
 },
 "nbformat": 4,
 "nbformat_minor": 5
}
