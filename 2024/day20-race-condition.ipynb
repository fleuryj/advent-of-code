{
 "cells": [
  {
   "cell_type": "code",
   "execution_count": 1,
   "id": "91b7d25e",
   "metadata": {},
   "outputs": [],
   "source": [
    "import numpy as np\n",
    "import networkx as nx"
   ]
  },
  {
   "cell_type": "code",
   "execution_count": 2,
   "id": "4dddc12a",
   "metadata": {},
   "outputs": [],
   "source": [
    "with open(\"data/day20.txt\", encoding=\"utf-8\") as f:\n",
    "    data = f.read()"
   ]
  },
  {
   "cell_type": "code",
   "execution_count": 3,
   "id": "d8ee82ac",
   "metadata": {},
   "outputs": [],
   "source": [
    "racetrack = np.array([list(d) for d in data.split(\"\\n\")])\n",
    "rows, cols = racetrack.shape\n",
    "start_position = [(i, j) for i in range(rows) for j in range(cols) if racetrack[i, j] == \"S\"][0]\n",
    "end_position = [(i, j) for i in range(rows) for j in range(cols) if racetrack[i, j] == \"E\"][0]\n",
    "directions = [(0, 1), (1, 0), (0, -1), (-1, 0)]\n",
    "\n",
    "def is_valid(i, j):\n",
    "    return 0 <= i < rows and 0 <= j < cols"
   ]
  },
  {
   "cell_type": "markdown",
   "id": "809d7c1c",
   "metadata": {},
   "source": [
    "# Problem 1"
   ]
  },
  {
   "cell_type": "code",
   "execution_count": 4,
   "id": "bf596bd5",
   "metadata": {},
   "outputs": [
    {
     "data": {
      "text/plain": [
       "1296"
      ]
     },
     "execution_count": 4,
     "metadata": {},
     "output_type": "execute_result"
    }
   ],
   "source": [
    "def shortest_path_length(position):\n",
    "    G = nx.Graph()\n",
    "    for i in range(rows):\n",
    "        for j in range(cols):\n",
    "            if racetrack[i,j] == \"#\":\n",
    "                continue\n",
    "            neighbours = [(i + d[0], j + d[1]) for d in directions]\n",
    "\n",
    "            for ni, nj in neighbours:\n",
    "                if racetrack[ni, nj] != \"#\":\n",
    "                    G.add_edge((i, j), (ni, nj))\n",
    "\n",
    "    return nx.shortest_path_length(G, source=position)\n",
    "\n",
    "paths_length_from_start = shortest_path_length(start_position)\n",
    "paths_length_from_end = shortest_path_length(end_position)\n",
    "normal_length = paths_length_from_start[end_position]\n",
    "\n",
    "total = 0\n",
    "for i in range(rows):\n",
    "    for j in range(cols):\n",
    "        if racetrack[i,j] != \"#\":\n",
    "            continue\n",
    "            \n",
    "        obstacle_neighbours = [((i + d[0], j + d[1]), paths_length_from_start[(i + d[0], j + d[1])]) \\\n",
    "                               for d in directions \\\n",
    "                               if is_valid(i + d[0], j + d[1]) \\\n",
    "                               and racetrack[i + d[0], j + d[1]] != \"#\"]\n",
    "        \n",
    "        obstacle_neighbours = sorted(obstacle_neighbours, key=lambda x: x[1])\n",
    "        \n",
    "        if len(obstacle_neighbours) > 0:\n",
    "            _, length_from_start = obstacle_neighbours[0]\n",
    "            \n",
    "            for n, _ in obstacle_neighbours[1:]:\n",
    "                new_length = length_from_start + paths_length_from_end[n] + 2\n",
    "                if normal_length - new_length >= 100:\n",
    "                    total += 1\n",
    "                    break\n",
    "total"
   ]
  },
  {
   "cell_type": "markdown",
   "id": "61a19a67",
   "metadata": {},
   "source": [
    "# Problem 2"
   ]
  },
  {
   "cell_type": "code",
   "execution_count": 5,
   "id": "2040903c",
   "metadata": {},
   "outputs": [
    {
     "data": {
      "text/plain": [
       "977665"
      ]
     },
     "execution_count": 5,
     "metadata": {},
     "output_type": "execute_result"
    }
   ],
   "source": [
    "total = 0\n",
    "for i in range(rows):\n",
    "    for j in range(cols):\n",
    "        if racetrack[i,j] == \"#\":\n",
    "            continue\n",
    "            \n",
    "        for k in range(rows):\n",
    "            for l in range(cols):\n",
    "                if (i,j) == (k,l) or racetrack[k, l] == \"#\":\n",
    "                    continue\n",
    "        \n",
    "                length_between = abs(i - k) + abs(j - l)\n",
    "                if length_between <= 20 \\\n",
    "                and paths_length_from_start[(i,j)] < paths_length_from_start[(k,l)]:\n",
    "                    new_length = paths_length_from_start[(i,j)] + length_between + paths_length_from_end[(k,l)]\n",
    "                    if normal_length - new_length >= 100:\n",
    "                        total += 1\n",
    "\n",
    "total"
   ]
  }
 ],
 "metadata": {
  "kernelspec": {
   "display_name": "Python 3 (ipykernel)",
   "language": "python",
   "name": "python3"
  },
  "language_info": {
   "codemirror_mode": {
    "name": "ipython",
    "version": 3
   },
   "file_extension": ".py",
   "mimetype": "text/x-python",
   "name": "python",
   "nbconvert_exporter": "python",
   "pygments_lexer": "ipython3",
   "version": "3.8.17"
  }
 },
 "nbformat": 4,
 "nbformat_minor": 5
}
