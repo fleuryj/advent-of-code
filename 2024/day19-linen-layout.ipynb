{
 "cells": [
  {
   "cell_type": "code",
   "execution_count": 1,
   "id": "7a745c4a",
   "metadata": {},
   "outputs": [],
   "source": [
    "import re"
   ]
  },
  {
   "cell_type": "code",
   "execution_count": 2,
   "id": "97e93894",
   "metadata": {},
   "outputs": [],
   "source": [
    "with open(\"data/day19.txt\", encoding=\"utf-8\") as f:\n",
    "    data = f.read()"
   ]
  },
  {
   "cell_type": "code",
   "execution_count": 3,
   "id": "127b67bb",
   "metadata": {},
   "outputs": [],
   "source": [
    "patterns, designs = data.split(\"\\n\\n\")\n",
    "patterns = patterns.split(\", \")\n",
    "designs = designs.split(\"\\n\")"
   ]
  },
  {
   "cell_type": "markdown",
   "id": "51a666c5",
   "metadata": {},
   "source": [
    "# Problem 1"
   ]
  },
  {
   "cell_type": "code",
   "execution_count": 4,
   "id": "be5b392c",
   "metadata": {},
   "outputs": [
    {
     "data": {
      "text/plain": [
       "216"
      ]
     },
     "execution_count": 4,
     "metadata": {},
     "output_type": "execute_result"
    }
   ],
   "source": [
    "cache = {}\n",
    "def is_valid(design):\n",
    "    if design in cache.keys():\n",
    "        return cache[design]\n",
    "    if len(design) == 0:\n",
    "        return True\n",
    "    for p in patterns:\n",
    "        if design[:len(p)] == p and is_valid(design[len(p):]):\n",
    "            cache[design] = True\n",
    "            return True\n",
    "    cache[design] = False\n",
    "    return False\n",
    "\n",
    "total = 0\n",
    "for design in designs:\n",
    "    if is_valid(design):\n",
    "        total += 1\n",
    "total"
   ]
  },
  {
   "cell_type": "markdown",
   "id": "ddb2300e",
   "metadata": {},
   "source": [
    "# Problem 2"
   ]
  },
  {
   "cell_type": "code",
   "execution_count": 5,
   "id": "7f2d05cc",
   "metadata": {},
   "outputs": [
    {
     "data": {
      "text/plain": [
       "603191454138773"
      ]
     },
     "execution_count": 5,
     "metadata": {},
     "output_type": "execute_result"
    }
   ],
   "source": [
    "cache_nb = {}\n",
    "   \n",
    "def nb_valid_compositions(design):\n",
    "    if design in cache_nb.keys():\n",
    "        return cache_nb[design]\n",
    "\n",
    "    nb_valid = 0\n",
    "    for p in patterns:\n",
    "        if p == design:\n",
    "            nb_valid += 1\n",
    "        if design[:len(p)] == p and is_valid(design[len(p):]):\n",
    "            nb_valid_remaining = nb_valid_compositions(design[len(p):])\n",
    "            nb_valid += 1 * nb_valid_remaining\n",
    "    cache_nb[design] = nb_valid\n",
    "    return nb_valid\n",
    "\n",
    "total = 0\n",
    "for design in designs:\n",
    "    total += nb_valid_compositions(design)\n",
    "total"
   ]
  }
 ],
 "metadata": {
  "kernelspec": {
   "display_name": "Python 3 (ipykernel)",
   "language": "python",
   "name": "python3"
  },
  "language_info": {
   "codemirror_mode": {
    "name": "ipython",
    "version": 3
   },
   "file_extension": ".py",
   "mimetype": "text/x-python",
   "name": "python",
   "nbconvert_exporter": "python",
   "pygments_lexer": "ipython3",
   "version": "3.8.17"
  }
 },
 "nbformat": 4,
 "nbformat_minor": 5
}
