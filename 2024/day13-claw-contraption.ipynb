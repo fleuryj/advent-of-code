{
 "cells": [
  {
   "cell_type": "code",
   "execution_count": 1,
   "id": "ed923459",
   "metadata": {},
   "outputs": [],
   "source": [
    "import numpy as np\n",
    "import re"
   ]
  },
  {
   "cell_type": "code",
   "execution_count": 3,
   "id": "f16f2daa",
   "metadata": {},
   "outputs": [],
   "source": [
    "with open(\"data/day13.txt\", encoding=\"utf-8\") as f:\n",
    "    data = f.read()"
   ]
  },
  {
   "cell_type": "code",
   "execution_count": 4,
   "id": "adce671b",
   "metadata": {},
   "outputs": [],
   "source": [
    "claw_machines = re.findall(\"X\\+(\\d+), Y\\+(\\d+)\\n.*X\\+(\\d+), Y\\+(\\d+)\\n.*X=(\\d+), Y=(\\d+)\", data)\n",
    "claw_machines = [\n",
    "    (np.array([[int(d[0]), int(d[2])], [int(d[1]), int(d[3])]]), np.array([int(d[4]), int(d[5])])) for d in claw_machines\n",
    "]"
   ]
  },
  {
   "cell_type": "markdown",
   "id": "40bff143",
   "metadata": {},
   "source": [
    "# Problem 1"
   ]
  },
  {
   "cell_type": "code",
   "execution_count": 5,
   "id": "a6f78e2b",
   "metadata": {},
   "outputs": [
    {
     "data": {
      "text/plain": [
       "39290"
      ]
     },
     "execution_count": 5,
     "metadata": {},
     "output_type": "execute_result"
    }
   ],
   "source": [
    "total = 0\n",
    "for buttons, prize in claw_machines:\n",
    "    result = [round(r) for r in np.linalg.solve(buttons, prize)]\n",
    "    if all(buttons@result == prize) and all([r <= 100 for r in result]):\n",
    "        total += (3 * result[0]) + result[1]\n",
    "total"
   ]
  },
  {
   "cell_type": "markdown",
   "id": "f09cc7f5",
   "metadata": {},
   "source": [
    "# Problem 2"
   ]
  },
  {
   "cell_type": "code",
   "execution_count": 6,
   "id": "961c639a",
   "metadata": {},
   "outputs": [
    {
     "data": {
      "text/plain": [
       "73458657399094"
      ]
     },
     "execution_count": 6,
     "metadata": {},
     "output_type": "execute_result"
    }
   ],
   "source": [
    "expensive_claw_machines = [(machine[0], machine[1] + 10000000000000) for machine in claw_machines]\n",
    "total = 0\n",
    "for buttons, prize in expensive_claw_machines:\n",
    "    result = [round(r) for r in np.linalg.solve(buttons, prize)]\n",
    "    if all(buttons@result == prize):\n",
    "        total += (3 * result[0]) + result[1]\n",
    "total"
   ]
  }
 ],
 "metadata": {
  "kernelspec": {
   "display_name": "Python 3 (ipykernel)",
   "language": "python",
   "name": "python3"
  },
  "language_info": {
   "codemirror_mode": {
    "name": "ipython",
    "version": 3
   },
   "file_extension": ".py",
   "mimetype": "text/x-python",
   "name": "python",
   "nbconvert_exporter": "python",
   "pygments_lexer": "ipython3",
   "version": "3.8.17"
  }
 },
 "nbformat": 4,
 "nbformat_minor": 5
}
