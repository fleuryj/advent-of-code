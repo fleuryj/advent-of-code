{
 "cells": [
  {
   "cell_type": "code",
   "execution_count": 1,
   "id": "09543b37",
   "metadata": {},
   "outputs": [],
   "source": [
    "import networkx as nx"
   ]
  },
  {
   "cell_type": "code",
   "execution_count": 2,
   "id": "baf6a766",
   "metadata": {},
   "outputs": [],
   "source": [
    "with open(\"data/day21.txt\", encoding=\"utf-8\") as f:\n",
    "    data = f.read()"
   ]
  },
  {
   "cell_type": "code",
   "execution_count": 3,
   "id": "d39dc6dc",
   "metadata": {},
   "outputs": [],
   "source": [
    "codes = [d for d in data.split(\"\\n\")]\n",
    "numpad = [[\"7\", \"8\", \"9\"], [\"4\", \"5\", \"6\"], [\"1\", \"2\", \"3\"], [\"#\", \"0\", \"A\"]]\n",
    "keypad = [[\"#\", \"^\", \"A\"], [\"<\", \"v\", \">\"]]\n",
    "directions = [(0, 1), (1, 0), (0, -1), (-1, 0)]\n",
    "numpad_positions = {numpad[i][j]: (i, j) for i in range(4) for j in range(3)}\n",
    "keypad_positions = {keypad[i][j]: (i, j) for i in range(2) for j in range(3)}\n",
    "\n",
    "def is_valid(i, j, rows, cols):\n",
    "    return 0 <= i < rows and 0 <= j < cols\n",
    "\n",
    "def create_graph(source):\n",
    "    G = nx.Graph()\n",
    "    for i, row in enumerate(source):\n",
    "        for j, elm in enumerate(row):\n",
    "            if elm == \"#\":\n",
    "                continue\n",
    "            neighbours = [(i+d[0], j+d[1]) for d in directions if is_valid(i+d[0], j+d[1], len(source), len(source[0]))]\n",
    "            for ni, nj in neighbours:\n",
    "                if source[ni][nj] != \"#\":\n",
    "                    G.add_edge(source[i][j], source[ni][nj])\n",
    "    return G\n",
    "   \n",
    "G_numpad = create_graph(numpad)\n",
    "G_keypad = create_graph(keypad)\n",
    "\n",
    "cache_sequences = {}\n",
    "\n",
    "def best_sequences(start, end, numpad=False):\n",
    "    if (start, end) in cache_sequences:\n",
    "        return cache_sequences[(start, end)]\n",
    "    \n",
    "    if numpad:\n",
    "        shortest = nx.all_shortest_paths(G_numpad, start, end)\n",
    "    else:\n",
    "        shortest = nx.all_shortest_paths(G_keypad, start, end)\n",
    "        \n",
    "    sequences = []\n",
    "    for path in shortest:\n",
    "        sequence = \"\"\n",
    "        for l, r in zip(path, path[1:]):\n",
    "            if numpad:\n",
    "                l_pos, r_pos = numpad_positions[l], numpad_positions[r]\n",
    "            else:\n",
    "                l_pos, r_pos = keypad_positions[l], keypad_positions[r]\n",
    "            vertical, horizontal = r_pos[0] - l_pos[0], r_pos[1] - l_pos[1]\n",
    "            sequence += \"v\" if vertical > 0 else \"^\" if vertical < 0 else \">\" if horizontal > 0 else \"<\"\n",
    "        sequences.append(sequence + \"A\")\n",
    "\n",
    "    cache_sequences[(start, end)] = sequences\n",
    "    return sequences"
   ]
  },
  {
   "cell_type": "markdown",
   "id": "69d7d9d6",
   "metadata": {},
   "source": [
    "# Problem 1"
   ]
  },
  {
   "cell_type": "code",
   "execution_count": 4,
   "id": "ed6c205e",
   "metadata": {},
   "outputs": [
    {
     "data": {
      "text/plain": [
       "248108"
      ]
     },
     "execution_count": 4,
     "metadata": {},
     "output_type": "execute_result"
    }
   ],
   "source": [
    "def type_symbol(nb_robot, start, end):\n",
    "    if nb_robot == 1:\n",
    "        return best_sequences(start, end, True)\n",
    "    \n",
    "    solutions = []\n",
    "    sequences = type_symbol(nb_robot - 1, start, end)\n",
    "    for sequence in sequences:\n",
    "        new_sequences = [\"\"]\n",
    "        for s, e in zip(\"A\" + sequence, sequence):\n",
    "            candidates = best_sequences(s, e)\n",
    "            new_sequences = [ns + c for c in candidates for ns in new_sequences]\n",
    "        solutions.extend(new_sequences)\n",
    "        \n",
    "    best_length = min([len(s) for s in solutions])\n",
    "    solutions = [s for s in solutions if len(s) == best_length]\n",
    "    return solutions\n",
    "\n",
    "def type_code(nb_robot, code):\n",
    "    instructions = [\"\"]\n",
    "    for s, e in zip(\"A\" + code, code):\n",
    "        candidates = type_symbol(nb_robot, s, e)\n",
    "        instructions = [i + c for c in candidates for i in instructions]\n",
    "    return instructions\n",
    "\n",
    "total = 0\n",
    "for code in codes:\n",
    "    code_length = len(type_code(3, code)[0])\n",
    "    total += int(code[:-1]) * code_length\n",
    "total "
   ]
  },
  {
   "cell_type": "markdown",
   "id": "31fcf425",
   "metadata": {},
   "source": [
    "# Problem 2"
   ]
  },
  {
   "cell_type": "code",
   "execution_count": 5,
   "id": "7a703770",
   "metadata": {},
   "outputs": [
    {
     "data": {
      "text/plain": [
       "303836969158972"
      ]
     },
     "execution_count": 5,
     "metadata": {},
     "output_type": "execute_result"
    }
   ],
   "source": [
    "cache = {}\n",
    "def code_length(nb_robot, code, numpad=False):\n",
    "    if nb_robot == 0:\n",
    "        return len(code)\n",
    "    if (nb_robot, code) in cache.keys():\n",
    "        return cache[(nb_robot, code)]\n",
    "    \n",
    "    length = 0\n",
    "    for s, e in zip(\"A\" + code, code):\n",
    "        combinations = best_sequences(s, e, numpad)\n",
    "        length += min([code_length(nb_robot-1, c) for c in combinations])\n",
    "        \n",
    "    cache[(nb_robot, code)] = length\n",
    "    return length\n",
    "\n",
    "total = 0\n",
    "for code in codes:\n",
    "    length = code_length(26, code, True)\n",
    "    total += int(code[:-1]) * length\n",
    "total"
   ]
  }
 ],
 "metadata": {
  "kernelspec": {
   "display_name": "Python 3 (ipykernel)",
   "language": "python",
   "name": "python3"
  },
  "language_info": {
   "codemirror_mode": {
    "name": "ipython",
    "version": 3
   },
   "file_extension": ".py",
   "mimetype": "text/x-python",
   "name": "python",
   "nbconvert_exporter": "python",
   "pygments_lexer": "ipython3",
   "version": "3.8.17"
  }
 },
 "nbformat": 4,
 "nbformat_minor": 5
}
