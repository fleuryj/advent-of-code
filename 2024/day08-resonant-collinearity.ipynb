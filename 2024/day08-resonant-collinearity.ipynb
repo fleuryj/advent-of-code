{
 "cells": [
  {
   "cell_type": "code",
   "execution_count": 1,
   "id": "2de21fd6",
   "metadata": {},
   "outputs": [],
   "source": [
    "import numpy as np\n",
    "from itertools import groupby, combinations"
   ]
  },
  {
   "cell_type": "code",
   "execution_count": 2,
   "id": "32a3ab1d",
   "metadata": {},
   "outputs": [],
   "source": [
    "with open(\"data/day08.txt\", encoding=\"utf-8\") as f:\n",
    "    data = f.readlines()"
   ]
  },
  {
   "cell_type": "code",
   "execution_count": 3,
   "id": "97f59e07",
   "metadata": {},
   "outputs": [],
   "source": [
    "map_antennas = np.array([list(d.strip()) for d in data])\n",
    "rows, cols = map_antennas.shape\n",
    "\n",
    "def is_valid(i, j):\n",
    "    return 0 <= i < rows and 0 <= j < cols\n",
    "\n",
    "freq_positions = [(map_antennas[i, j], i, j) for i in range(rows) for j in range(cols) if map_antennas[i, j] != \".\"]\n",
    "freq_positions.sort()\n",
    "frequencies_map = {freq: [(pos[1], pos[2]) for pos in positions] for freq, positions in groupby(freq_positions, key=lambda x: x[0])}"
   ]
  },
  {
   "cell_type": "markdown",
   "id": "2fcd59b4",
   "metadata": {},
   "source": [
    "# Problem 1"
   ]
  },
  {
   "cell_type": "code",
   "execution_count": 4,
   "id": "06f604b9",
   "metadata": {},
   "outputs": [
    {
     "data": {
      "text/plain": [
       "276"
      ]
     },
     "execution_count": 4,
     "metadata": {},
     "output_type": "execute_result"
    }
   ],
   "source": [
    "antinodes = set()\n",
    "for freq, positions in frequencies_map.items():\n",
    "    antenna_pairs = combinations(positions, 2)\n",
    "    for (x1, y1), (x2, y2) in antenna_pairs:\n",
    "        dx, dy = x2 - x1, y2 - y1\n",
    "        pair_antinodes = [(x1 - dx, y1 - dy), (x2 + dx, y2 + dy)]\n",
    "        \n",
    "        for antinode in pair_antinodes:\n",
    "            if is_valid(*antinode):\n",
    "                antinodes.add(antinode)\n",
    "len(antinodes)"
   ]
  },
  {
   "cell_type": "markdown",
   "id": "6c197c96",
   "metadata": {},
   "source": [
    "# Problem 2"
   ]
  },
  {
   "cell_type": "code",
   "execution_count": 5,
   "id": "858731c2",
   "metadata": {},
   "outputs": [
    {
     "data": {
      "text/plain": [
       "991"
      ]
     },
     "execution_count": 5,
     "metadata": {},
     "output_type": "execute_result"
    }
   ],
   "source": [
    "antinodes = set()\n",
    "for freq, positions in frequencies_map.items():\n",
    "    antenna_pairs = combinations(positions, 2)\n",
    "    for (x1, y1), (x2, y2) in antenna_pairs:\n",
    "        dx, dy = x2 - x1, y2 - y1\n",
    "        \n",
    "        i = 0\n",
    "        while is_valid(x1 - i * dx, y1 - i * dy):\n",
    "            antinodes.add((x1 - i * dx, y1 - i * dy))\n",
    "            i+=1\n",
    "            \n",
    "        i = 0\n",
    "        while is_valid(x2 + i * dx, y2 + i * dy):\n",
    "            antinodes.add((x2 + i * dx, y2 + i * dy))\n",
    "            i+=1         \n",
    "\n",
    "len(antinodes)"
   ]
  }
 ],
 "metadata": {
  "kernelspec": {
   "display_name": "Python 3 (ipykernel)",
   "language": "python",
   "name": "python3"
  },
  "language_info": {
   "codemirror_mode": {
    "name": "ipython",
    "version": 3
   },
   "file_extension": ".py",
   "mimetype": "text/x-python",
   "name": "python",
   "nbconvert_exporter": "python",
   "pygments_lexer": "ipython3",
   "version": "3.8.17"
  }
 },
 "nbformat": 4,
 "nbformat_minor": 5
}
