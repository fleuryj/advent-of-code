{
 "cells": [
  {
   "cell_type": "code",
   "execution_count": 1,
   "id": "c4a6bdba",
   "metadata": {},
   "outputs": [],
   "source": [
    "import numpy as np"
   ]
  },
  {
   "cell_type": "code",
   "execution_count": 2,
   "id": "88664fea",
   "metadata": {},
   "outputs": [],
   "source": [
    "with open(\"data/day02.txt\") as f:\n",
    "    data = f.readlines()"
   ]
  },
  {
   "cell_type": "code",
   "execution_count": 3,
   "id": "16af3a71",
   "metadata": {},
   "outputs": [],
   "source": [
    "reports = [[int(d) for d in line.split()] for line in data]"
   ]
  },
  {
   "cell_type": "markdown",
   "id": "3ae5ba90",
   "metadata": {},
   "source": [
    "# Problem 1"
   ]
  },
  {
   "cell_type": "code",
   "execution_count": 4,
   "id": "fd6c02ec",
   "metadata": {},
   "outputs": [
    {
     "data": {
      "text/plain": [
       "486"
      ]
     },
     "execution_count": 4,
     "metadata": {},
     "output_type": "execute_result"
    }
   ],
   "source": [
    "def is_safe(report):\n",
    "    diff = (np.array(report) - np.array(report[1:] + [0]))[:-1]\n",
    "    increase = (0 < diff) & (diff < 4)\n",
    "    decrease = (-4 < diff) & (diff < 0)    \n",
    "    return sum(increase) == len(diff) or sum(decrease) == len(diff)\n",
    "\n",
    "sum([1 for r in reports if is_safe(r)])"
   ]
  },
  {
   "cell_type": "markdown",
   "id": "6150446f",
   "metadata": {},
   "source": [
    "# Problem 2"
   ]
  },
  {
   "cell_type": "code",
   "execution_count": 5,
   "id": "ee51f07c",
   "metadata": {},
   "outputs": [
    {
     "data": {
      "text/plain": [
       "540"
      ]
     },
     "execution_count": 5,
     "metadata": {},
     "output_type": "execute_result"
    }
   ],
   "source": [
    "def is_safe_with_tolerance(report):\n",
    "    for i in range(len(report)):\n",
    "        smaller_report = list(np.delete(report, i, axis=0))\n",
    "        if is_safe(smaller_report):\n",
    "            return True\n",
    "    return False\n",
    "    \n",
    "sum([1 for r in reports if is_safe_with_tolerance(r)])"
   ]
  }
 ],
 "metadata": {
  "kernelspec": {
   "display_name": "Python 3 (ipykernel)",
   "language": "python",
   "name": "python3"
  },
  "language_info": {
   "codemirror_mode": {
    "name": "ipython",
    "version": 3
   },
   "file_extension": ".py",
   "mimetype": "text/x-python",
   "name": "python",
   "nbconvert_exporter": "python",
   "pygments_lexer": "ipython3",
   "version": "3.8.17"
  }
 },
 "nbformat": 4,
 "nbformat_minor": 5
}
