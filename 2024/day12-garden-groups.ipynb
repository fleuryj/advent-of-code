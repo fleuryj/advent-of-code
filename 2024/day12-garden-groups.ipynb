{
 "cells": [
  {
   "cell_type": "code",
   "execution_count": 1,
   "id": "dc69a235",
   "metadata": {},
   "outputs": [],
   "source": [
    "import numpy as np"
   ]
  },
  {
   "cell_type": "code",
   "execution_count": 2,
   "id": "e1976941",
   "metadata": {},
   "outputs": [],
   "source": [
    "with open(\"data/day12.txt\", encoding=\"utf-8\") as f:\n",
    "    data = f.readlines()"
   ]
  },
  {
   "cell_type": "code",
   "execution_count": 3,
   "id": "3a210265",
   "metadata": {},
   "outputs": [],
   "source": [
    "garden_plots = np.array([list(d.strip()) for d in data])\n",
    "rows, cols = garden_plots.shape\n",
    "directions = [(0, 1), (1, 0), (0, -1), (-1, 0)]\n",
    "\n",
    "def is_valid(i, j):\n",
    "    return i >= 0 and i < rows and j >= 0 and j < cols\n",
    "\n",
    "def is_neighbour(p, i, j):\n",
    "    return is_valid(i, j) and garden_plots[i, j] == p\n",
    "\n",
    "visited = set()\n",
    "\n",
    "def is_valid_neighbour(p, i, j):\n",
    "    return is_neighbour(p, i, j) and (i, j) not in visited\n",
    "\n",
    "def find_neighbours(i, j):\n",
    "    index = garden_plots[i, j]\n",
    "    visited.add((i, j))\n",
    "    neighbours = {(i + d[0], j + d[1]) for d in directions if is_valid_neighbour(index, i + d[0], j + d[1])}\n",
    "    return neighbours | {n for neighbour in neighbours for n in find_neighbours(*neighbour)}\n",
    "\n",
    "plots = []\n",
    "for i in range(rows):\n",
    "    for j in range(cols):\n",
    "        if (i, j) not in visited:\n",
    "            visited.add((i, j))\n",
    "            plots.append({(i, j)} | find_neighbours(i, j))"
   ]
  },
  {
   "cell_type": "markdown",
   "id": "a77f6f75",
   "metadata": {},
   "source": [
    "# Problem 1"
   ]
  },
  {
   "cell_type": "code",
   "execution_count": 4,
   "id": "ed7729c2",
   "metadata": {},
   "outputs": [
    {
     "data": {
      "text/plain": [
       "1533024"
      ]
     },
     "execution_count": 4,
     "metadata": {},
     "output_type": "execute_result"
    }
   ],
   "source": [
    "total = 0\n",
    "for plot in plots:\n",
    "    area = len(plot)\n",
    "    perimeter = 0\n",
    "    for i, j in plot:\n",
    "        perimeter += sum([(i + d[0], j + d[1]) not in plot for d in directions])   \n",
    "    total += area * perimeter\n",
    "total"
   ]
  },
  {
   "cell_type": "markdown",
   "id": "984bdd85",
   "metadata": {},
   "source": [
    "# Problem 2"
   ]
  },
  {
   "cell_type": "code",
   "execution_count": 5,
   "id": "92a8aff1",
   "metadata": {},
   "outputs": [
    {
     "data": {
      "text/plain": [
       "910066"
      ]
     },
     "execution_count": 5,
     "metadata": {},
     "output_type": "execute_result"
    }
   ],
   "source": [
    "corners = [[(0, -1), (-1, -1), (-1, 0)], \n",
    "           [(-1, 0), (-1, 1), (0, 1)], \n",
    "           [(0, 1), (1, 1), (1, 0)], \n",
    "           [(1, 0), (1, -1), (0, -1)]]\n",
    "\n",
    "def is_outer_corner(corner, i, j):\n",
    "    return (i + corner[0][0], j + corner[0][1]) not in plot \\\n",
    "            and (i + corner[2][0], j + corner[2][1]) not in plot\n",
    "\n",
    "def is_inner_corner(corner, i, j):\n",
    "    return (i + corner[0][0], j + corner[0][1]) in plot \\\n",
    "            and (i + corner[2][0], j + corner[2][1]) in plot \\\n",
    "            and (i + corner[1][0], j + corner[1][1]) not in plot\n",
    "\n",
    "total = 0\n",
    "for plot in plots:\n",
    "    area = len(plot)\n",
    "    edges = 0\n",
    "    for i, j in plot:\n",
    "        edges += sum([is_outer_corner(corner, i, j) or is_inner_corner(corner, i, j) for corner in corners])         \n",
    "    total += area * edges\n",
    "total"
   ]
  }
 ],
 "metadata": {
  "kernelspec": {
   "display_name": "Python 3 (ipykernel)",
   "language": "python",
   "name": "python3"
  },
  "language_info": {
   "codemirror_mode": {
    "name": "ipython",
    "version": 3
   },
   "file_extension": ".py",
   "mimetype": "text/x-python",
   "name": "python",
   "nbconvert_exporter": "python",
   "pygments_lexer": "ipython3",
   "version": "3.8.17"
  }
 },
 "nbformat": 4,
 "nbformat_minor": 5
}
