{
 "cells": [
  {
   "cell_type": "code",
   "execution_count": 1,
   "id": "58948edb",
   "metadata": {},
   "outputs": [],
   "source": [
    "import re"
   ]
  },
  {
   "cell_type": "code",
   "execution_count": 2,
   "id": "485a06fb",
   "metadata": {},
   "outputs": [],
   "source": [
    "with open(\"data/day05.txt\") as f:\n",
    "    data = f.read()"
   ]
  },
  {
   "cell_type": "code",
   "execution_count": 3,
   "id": "3e69641d",
   "metadata": {},
   "outputs": [],
   "source": [
    "rules, updates = data.split(\"\\n\\n\")\n",
    "rules = re.findall(\"(\\d+)\\|(\\d+)\", rules)\n",
    "updates = [line.split(\",\") for line in updates.split(\"\\n\")]\n",
    "\n",
    "followers = {r[1] for r in rules}\n",
    "should_follow = {f : [r[0] for r in rules if r[1] == f] for f in followers}"
   ]
  },
  {
   "cell_type": "markdown",
   "id": "944daa14",
   "metadata": {},
   "source": [
    "# Problem 1"
   ]
  },
  {
   "cell_type": "code",
   "execution_count": 4,
   "id": "bdd36a88",
   "metadata": {},
   "outputs": [
    {
     "data": {
      "text/plain": [
       "6498"
      ]
     },
     "execution_count": 4,
     "metadata": {},
     "output_type": "execute_result"
    }
   ],
   "source": [
    "def valid_update(update):\n",
    "    already_seen = set()\n",
    "    for u in update:\n",
    "        already_seen.add(u)\n",
    "        should_have_seen = [s for s in should_follow.get(u) if s in update]\n",
    "        if should_have_seen is None:\n",
    "            continue\n",
    "        if all([s in already_seen for s in should_have_seen]):\n",
    "            continue\n",
    "        return False\n",
    "    return True\n",
    "\n",
    "sum([int(update[int(len(update)/2)]) for update in updates if valid_update(update)])"
   ]
  },
  {
   "cell_type": "markdown",
   "id": "88780b1f",
   "metadata": {},
   "source": [
    "# Problem 2"
   ]
  },
  {
   "cell_type": "code",
   "execution_count": 5,
   "id": "c9d9a5be",
   "metadata": {},
   "outputs": [
    {
     "data": {
      "text/plain": [
       "5017"
      ]
     },
     "execution_count": 5,
     "metadata": {},
     "output_type": "execute_result"
    }
   ],
   "source": [
    "invalid_updates = [update for update in updates if not valid_update(update)]\n",
    "\n",
    "def partial_reorder(update):\n",
    "    reordered_update = []\n",
    "    for u in update:\n",
    "        if u not in reordered_update:\n",
    "            should_have_seen = [s for s in should_follow.get(u) if s in update and s not in reordered_update]\n",
    "            reordered_update.extend(should_have_seen)\n",
    "            reordered_update.append(u)\n",
    "    return reordered_update\n",
    "    \n",
    "reordered_updates = []\n",
    "for update in invalid_updates:\n",
    "    while not valid_update(update):\n",
    "        update = partial_reorder(update)\n",
    "    reordered_updates.append(update)\n",
    "\n",
    "sum([int(update[int(len(update)/2)]) for update in reordered_updates])"
   ]
  }
 ],
 "metadata": {
  "kernelspec": {
   "display_name": "Python 3 (ipykernel)",
   "language": "python",
   "name": "python3"
  },
  "language_info": {
   "codemirror_mode": {
    "name": "ipython",
    "version": 3
   },
   "file_extension": ".py",
   "mimetype": "text/x-python",
   "name": "python",
   "nbconvert_exporter": "python",
   "pygments_lexer": "ipython3",
   "version": "3.8.17"
  }
 },
 "nbformat": 4,
 "nbformat_minor": 5
}
