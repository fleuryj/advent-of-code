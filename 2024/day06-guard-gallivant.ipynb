{
 "cells": [
  {
   "cell_type": "code",
   "execution_count": 1,
   "id": "69d52100",
   "metadata": {},
   "outputs": [],
   "source": [
    "import numpy as np"
   ]
  },
  {
   "cell_type": "code",
   "execution_count": 2,
   "id": "36a17e86",
   "metadata": {},
   "outputs": [],
   "source": [
    "with open(\"data/day06.txt\") as f:\n",
    "    data = f.readlines()"
   ]
  },
  {
   "cell_type": "code",
   "execution_count": 3,
   "id": "2370e5d6",
   "metadata": {},
   "outputs": [],
   "source": [
    "map_world = np.array([list(line.strip()) for line in data])\n",
    "rows, cols = map_world.shape\n",
    "start_position = [(i, j) for i in range(rows) for j in range(cols) if map_world[i, j] not in [\"#\", \".\"]][0]\n",
    "directions = [(-1, 0), (0, 1), (1, 0), (0, -1)]\n",
    "\n",
    "def is_valid(i, j):\n",
    "    return i >= 0 and i < rows and j >= 0 and j < cols"
   ]
  },
  {
   "cell_type": "markdown",
   "id": "0c4bde8b",
   "metadata": {},
   "source": [
    "# Problem 1"
   ]
  },
  {
   "cell_type": "code",
   "execution_count": 4,
   "id": "80dde4c4",
   "metadata": {},
   "outputs": [
    {
     "data": {
      "text/plain": [
       "4722"
      ]
     },
     "execution_count": 4,
     "metadata": {},
     "output_type": "execute_result"
    }
   ],
   "source": [
    "i, j = start_position\n",
    "dir_index = 0\n",
    "\n",
    "visited = set()\n",
    "while is_valid(i, j):\n",
    "    visited.add((i,j))\n",
    "    next_position = i + directions[dir_index][0], j + directions[dir_index][1]\n",
    "    if is_valid(*next_position) and map_world[next_position[0], next_position[1]] == \"#\":\n",
    "        dir_index = (dir_index + 1) % len(directions)\n",
    "    else:\n",
    "        i += directions[dir_index][0]\n",
    "        j += directions[dir_index][1]\n",
    "    \n",
    "len(visited)"
   ]
  },
  {
   "cell_type": "markdown",
   "id": "41fde530",
   "metadata": {},
   "source": [
    "# Problem 2"
   ]
  },
  {
   "cell_type": "code",
   "execution_count": 5,
   "id": "642289d8",
   "metadata": {},
   "outputs": [
    {
     "data": {
      "text/plain": [
       "1602"
      ]
     },
     "execution_count": 5,
     "metadata": {},
     "output_type": "execute_result"
    }
   ],
   "source": [
    "total = 0\n",
    "for k,l in visited:\n",
    "    i, j = start_position\n",
    "    dir_index = 0\n",
    "    already_seen = set()\n",
    "\n",
    "    if map_world[k, l] != \".\":\n",
    "        continue\n",
    "\n",
    "    while is_valid(i, j):\n",
    "        if (i, j, dir_index) in already_seen:\n",
    "            total += 1\n",
    "            break   \n",
    "        already_seen.add((i, j, dir_index))\n",
    "        next_position = i + directions[dir_index][0], j + directions[dir_index][1]\n",
    "\n",
    "        if (next_position == (k, l)) or (is_valid(*next_position) and map_world[next_position] == \"#\"):\n",
    "            dir_index = (dir_index + 1) % len(directions)\n",
    "        else:\n",
    "            i += directions[dir_index][0]\n",
    "            j += directions[dir_index][1]\n",
    "total"
   ]
  }
 ],
 "metadata": {
  "kernelspec": {
   "display_name": "Python 3 (ipykernel)",
   "language": "python",
   "name": "python3"
  },
  "language_info": {
   "codemirror_mode": {
    "name": "ipython",
    "version": 3
   },
   "file_extension": ".py",
   "mimetype": "text/x-python",
   "name": "python",
   "nbconvert_exporter": "python",
   "pygments_lexer": "ipython3",
   "version": "3.8.17"
  }
 },
 "nbformat": 4,
 "nbformat_minor": 5
}
