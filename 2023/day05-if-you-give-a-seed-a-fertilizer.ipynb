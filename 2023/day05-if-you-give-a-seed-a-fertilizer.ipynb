{
 "cells": [
  {
   "cell_type": "code",
   "execution_count": 1,
   "id": "e0568725",
   "metadata": {},
   "outputs": [],
   "source": [
    "import re"
   ]
  },
  {
   "cell_type": "code",
   "execution_count": 2,
   "id": "975777be",
   "metadata": {},
   "outputs": [],
   "source": [
    "with open(\"data/day05.txt\", encoding=\"utf-8\") as f:\n",
    "    data = f.read()"
   ]
  },
  {
   "cell_type": "code",
   "execution_count": 3,
   "id": "410f3b95",
   "metadata": {},
   "outputs": [],
   "source": [
    "almanac = data.split(\"\\n\\n\")\n",
    "seeds = [int(s) for s in re.findall(\"\\d+\", almanac[0])]\n",
    "rules = [re.findall(\"map:\\n((?:\\d+ \\d+ \\d+\\n?)*)\", a)[0] for a in almanac[1:]]\n",
    "rules = [[[int(i) for i in m.split(\" \")] for m in a.split(\"\\n\")] for a in rules]"
   ]
  },
  {
   "cell_type": "markdown",
   "id": "d16d202f",
   "metadata": {},
   "source": [
    "# Problem 1"
   ]
  },
  {
   "cell_type": "code",
   "execution_count": 4,
   "id": "c8162f70",
   "metadata": {},
   "outputs": [
    {
     "data": {
      "text/plain": [
       "486613012"
      ]
     },
     "execution_count": 4,
     "metadata": {},
     "output_type": "execute_result"
    }
   ],
   "source": [
    "def map_type(rules):\n",
    "    def do_map(value):\n",
    "        for dest, source, length in rules:\n",
    "            if source <= value <= source + length:\n",
    "                return value + (dest - source)\n",
    "        return value\n",
    "    return do_map\n",
    "\n",
    "map_funcs = {i: map_type(rule) for i, rule in enumerate(rules)}\n",
    "\n",
    "def find_location(seed):\n",
    "    for i in range(len(map_funcs)):\n",
    "        seed = map_funcs[i](seed)\n",
    "    return seed\n",
    "\n",
    "min([find_location(seed) for seed in seeds])"
   ]
  },
  {
   "cell_type": "markdown",
   "id": "cfad299f",
   "metadata": {},
   "source": [
    "# Problem 2"
   ]
  },
  {
   "cell_type": "code",
   "execution_count": 5,
   "id": "b93ce3fb",
   "metadata": {},
   "outputs": [
    {
     "data": {
      "text/plain": [
       "56931769"
      ]
     },
     "execution_count": 5,
     "metadata": {},
     "output_type": "execute_result"
    }
   ],
   "source": [
    "def map_type(rules):\n",
    "    def do_map(seed, seed_length):\n",
    "        mapped_ranges = []\n",
    "        considered_range = 0\n",
    "        for dest, source, source_length in sorted(rules, key=lambda x: x[1]):\n",
    "            if considered_range == seed_length:\n",
    "                break\n",
    "            if source > seed + considered_range:\n",
    "                until = min(source - seed - considered_range, seed_length - considered_range)\n",
    "                mapped_ranges.append([seed + considered_range, until])\n",
    "                considered_range += until\n",
    "            elif source <= seed + considered_range < source + source_length:\n",
    "                until = min(seed + seed_length - considered_range - seed, source + source_length - considered_range - seed)\n",
    "                mapped_ranges.append([seed + considered_range + (dest - source), until])\n",
    "                considered_range += until\n",
    "\n",
    "        if considered_range != seed_length:\n",
    "            mapped_ranges.append([seed + considered_range, seed_length - considered_range])\n",
    "\n",
    "        return mapped_ranges\n",
    "    return do_map\n",
    "\n",
    "map_funcs = {i: map_type(rule) for i, rule in enumerate(rules)}\n",
    "\n",
    "def find_min_location(seed, length):\n",
    "    seeds = [[seed, length]]\n",
    "    for i in range(len(map_funcs)):\n",
    "        c_seeds = seeds.copy()\n",
    "        seeds = []\n",
    "        for seed in c_seeds:\n",
    "            seeds += map_funcs[i](*seed)\n",
    "    return seeds\n",
    "\n",
    "seeds_range = [(seeds[i], seeds[i+1]) for i in range(0, len(seeds), 2)]\n",
    "candidates = []\n",
    "for seed, length in seeds_range:\n",
    "    candidates.append(sorted(find_min_location(seed, length), key=lambda x: x[0])[0])\n",
    "sorted(candidates, key=lambda x: x[0])[0][0]"
   ]
  },
  {
   "cell_type": "code",
   "execution_count": 8,
   "id": "5026fa19",
   "metadata": {},
   "outputs": [
    {
     "data": {
      "text/plain": [
       "56931769"
      ]
     },
     "execution_count": 8,
     "metadata": {},
     "output_type": "execute_result"
    }
   ],
   "source": [
    "def map_type(rules):\n",
    "    def do_map(seed, seed_length):\n",
    "        mapped_ranges = []\n",
    "        considered_range = 0\n",
    "        for dest, source, source_length in sorted(rules, key=lambda x: x[1]):\n",
    "            new_seed = seed + considered_range\n",
    "            if considered_range == seed_length:\n",
    "                break\n",
    "            if source > new_seed:\n",
    "                until = min(seed_length - considered_range, source - new_seed)\n",
    "                mapped_ranges.append([new_seed, until])\n",
    "                considered_range += until\n",
    "            elif source <= new_seed < source + source_length:\n",
    "                until = min(seed + seed_length - new_seed, source + source_length - new_seed)\n",
    "                mapped_ranges.append([new_seed + (dest - source), until])\n",
    "                considered_range += until\n",
    "\n",
    "        if considered_range != seed_length:\n",
    "            mapped_ranges.append([new_seed, seed_length - considered_range])\n",
    "        return mapped_ranges\n",
    "    return do_map\n",
    "\n",
    "map_funcs = {i: map_type(rule) for i, rule in enumerate(rules)}\n",
    "\n",
    "def find_min_location(seed, length):\n",
    "    seeds = [[seed, length]]\n",
    "    for i in range(len(map_funcs)):\n",
    "        c_seeds = seeds.copy()\n",
    "        seeds = []\n",
    "        for seed in c_seeds:\n",
    "            seeds += map_funcs[i](*seed)\n",
    "    return seeds\n",
    "\n",
    "seeds_range = [(seeds[i], seeds[i+1]) for i in range(0, len(seeds), 2)]\n",
    "candidates = []\n",
    "for seed, length in seeds_range:\n",
    "    candidates.append(sorted(find_min_location(seed, length), key=lambda x: x[0])[0])\n",
    "sorted(candidates, key=lambda x: x[0])[0][0]"
   ]
  }
 ],
 "metadata": {
  "kernelspec": {
   "display_name": "Python 3 (ipykernel)",
   "language": "python",
   "name": "python3"
  },
  "language_info": {
   "codemirror_mode": {
    "name": "ipython",
    "version": 3
   },
   "file_extension": ".py",
   "mimetype": "text/x-python",
   "name": "python",
   "nbconvert_exporter": "python",
   "pygments_lexer": "ipython3",
   "version": "3.8.17"
  }
 },
 "nbformat": 4,
 "nbformat_minor": 5
}
