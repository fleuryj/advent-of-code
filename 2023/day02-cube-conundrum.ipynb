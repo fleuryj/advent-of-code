{
 "cells": [
  {
   "cell_type": "code",
   "execution_count": 1,
   "id": "b33218f3",
   "metadata": {},
   "outputs": [],
   "source": [
    "import re\n",
    "from functools import reduce"
   ]
  },
  {
   "cell_type": "code",
   "execution_count": 2,
   "id": "5cdc83b2",
   "metadata": {},
   "outputs": [],
   "source": [
    "with open(\"data/day02.txt\", encoding=\"utf-8\") as f:\n",
    "    data = f.read()"
   ]
  },
  {
   "cell_type": "code",
   "execution_count": 3,
   "id": "9f77086c",
   "metadata": {},
   "outputs": [],
   "source": [
    "games = [d.split(\":\") for d in data.split(\"\\n\")]\n",
    "games = [(int(re.findall(\"(\\d+)\", v[0])[0]), re.findall(\"(\\d+) ([a-z])\", v[1])) for v in games]\n",
    "games = [(v[0], [(int(c[0]), c[1]) for c in v[1]]) for v in games]"
   ]
  },
  {
   "cell_type": "markdown",
   "id": "f1e2cf6f",
   "metadata": {},
   "source": [
    "# Problem 1"
   ]
  },
  {
   "cell_type": "code",
   "execution_count": 4,
   "id": "6a16ecbb",
   "metadata": {},
   "outputs": [
    {
     "data": {
      "text/plain": [
       "2913"
      ]
     },
     "execution_count": 4,
     "metadata": {},
     "output_type": "execute_result"
    }
   ],
   "source": [
    "def is_valid(r, g, b):\n",
    "    game_ids = []\n",
    "    \n",
    "    for g_id, game in games:\n",
    "        colours = {}\n",
    "        for number, colour in game:\n",
    "            colours[colour] = max(colours.get(colour, 0), number)\n",
    "        if colours[\"r\"] <= r and colours[\"g\"] <= g and colours[\"b\"] <= b:\n",
    "            game_ids.append(g_id)\n",
    "            \n",
    "    return game_ids\n",
    "\n",
    "sum(is_valid(12, 13, 14))"
   ]
  },
  {
   "cell_type": "markdown",
   "id": "a2a217f3",
   "metadata": {},
   "source": [
    "# Problem 2"
   ]
  },
  {
   "cell_type": "code",
   "execution_count": 5,
   "id": "deaa7825",
   "metadata": {},
   "outputs": [
    {
     "data": {
      "text/plain": [
       "55593"
      ]
     },
     "execution_count": 5,
     "metadata": {},
     "output_type": "execute_result"
    }
   ],
   "source": [
    "def max_cubes(game):\n",
    "    colours = {}\n",
    "    for number, colour in game:\n",
    "        colours[colour] = max(colours.get(colour, 0), number)\n",
    "    return reduce(lambda x,y: x*y, colours.values())\n",
    "    \n",
    "total = 0\n",
    "for _, game in games:\n",
    "    total += max_cubes(game)\n",
    "total"
   ]
  }
 ],
 "metadata": {
  "kernelspec": {
   "display_name": "Python 3 (ipykernel)",
   "language": "python",
   "name": "python3"
  },
  "language_info": {
   "codemirror_mode": {
    "name": "ipython",
    "version": 3
   },
   "file_extension": ".py",
   "mimetype": "text/x-python",
   "name": "python",
   "nbconvert_exporter": "python",
   "pygments_lexer": "ipython3",
   "version": "3.8.17"
  }
 },
 "nbformat": 4,
 "nbformat_minor": 5
}
