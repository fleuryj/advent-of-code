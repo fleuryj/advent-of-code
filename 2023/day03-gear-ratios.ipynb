{
 "cells": [
  {
   "cell_type": "code",
   "execution_count": 1,
   "id": "c7024036",
   "metadata": {},
   "outputs": [],
   "source": [
    "import re\n",
    "from functools import reduce"
   ]
  },
  {
   "cell_type": "code",
   "execution_count": 2,
   "id": "b6d380da",
   "metadata": {},
   "outputs": [],
   "source": [
    "with open(\"data/day03.txt\", encoding=\"utf-8\") as f:\n",
    "    data = f.read()"
   ]
  },
  {
   "cell_type": "code",
   "execution_count": 3,
   "id": "1222c0e6",
   "metadata": {},
   "outputs": [],
   "source": [
    "engine = [list(d) for d in data.split(\"\\n\")]\n",
    "numbers = [int(n) for n in re.findall(\"(\\d+)\", data)]\n",
    "directions = [(-1, -1), (-1, 0), (-1, 1), (0, -1), (0, 1), (1, -1), (1, 0), (1, 1)]\n",
    "\n",
    "def is_valid(i, j):\n",
    "    return 0 <= i < len(engine) and 0 <= j < len(engine[0])\n",
    "\n",
    "number_positions = {}\n",
    "positions_number = {}\n",
    "number_i = 0\n",
    "is_digit = False\n",
    "for i, row in enumerate(engine):\n",
    "    if is_digit:\n",
    "        number_i += 1\n",
    "        is_digit = False\n",
    "    for j, el in enumerate(row):\n",
    "        if el.isdigit():\n",
    "            positions_number[(i, j)] = number_i\n",
    "            number_positions[number_i] = number_positions.get(number_i, []) + [(i, j)]\n",
    "            is_digit = True\n",
    "        elif is_digit:\n",
    "            number_i += 1\n",
    "            is_digit = False"
   ]
  },
  {
   "cell_type": "markdown",
   "id": "025da25a",
   "metadata": {},
   "source": [
    "# Problem 1"
   ]
  },
  {
   "cell_type": "code",
   "execution_count": 4,
   "id": "8c1e6030",
   "metadata": {},
   "outputs": [
    {
     "data": {
      "text/plain": [
       "531932"
      ]
     },
     "execution_count": 4,
     "metadata": {},
     "output_type": "execute_result"
    }
   ],
   "source": [
    "def is_valid_number(i, j):\n",
    "    neighbours = [(di, dj) for d in directions if is_valid(di:=i+d[0], dj:=j+d[1]) \\\n",
    "                  and engine[di][dj] != \".\" \\\n",
    "                  and not engine[di][dj].isdigit()]\n",
    "    return len(neighbours) > 0\n",
    "\n",
    "total = 0\n",
    "for i, number in enumerate(numbers):\n",
    "    if any([is_valid_number(*p) for p in number_positions[i]]):\n",
    "        total += number\n",
    "total   "
   ]
  },
  {
   "cell_type": "markdown",
   "id": "88b39f08",
   "metadata": {},
   "source": [
    "# Problem 2"
   ]
  },
  {
   "cell_type": "code",
   "execution_count": 5,
   "id": "f9145e05",
   "metadata": {},
   "outputs": [
    {
     "data": {
      "text/plain": [
       "73646890"
      ]
     },
     "execution_count": 5,
     "metadata": {},
     "output_type": "execute_result"
    }
   ],
   "source": [
    "def gear_ratio(i, j):\n",
    "    neighbours = {positions_number[(di, dj)] for d in directions \\\n",
    "                  if is_valid(di:=i+d[0], dj:=j+d[1]) \\\n",
    "                  and engine[di][dj].isdigit()}\n",
    "    if len(neighbours) == 2:\n",
    "        return reduce(lambda x,y: numbers[x] * numbers[y], neighbours)\n",
    "    return 0\n",
    "  \n",
    "total = 0\n",
    "for i, row in enumerate(engine):\n",
    "    for j, el in enumerate(row):\n",
    "        if engine[i][j] != \"*\":\n",
    "            continue\n",
    "        total += gear_ratio(i, j)\n",
    "total"
   ]
  }
 ],
 "metadata": {
  "kernelspec": {
   "display_name": "Python 3 (ipykernel)",
   "language": "python",
   "name": "python3"
  },
  "language_info": {
   "codemirror_mode": {
    "name": "ipython",
    "version": 3
   },
   "file_extension": ".py",
   "mimetype": "text/x-python",
   "name": "python",
   "nbconvert_exporter": "python",
   "pygments_lexer": "ipython3",
   "version": "3.8.17"
  }
 },
 "nbformat": 4,
 "nbformat_minor": 5
}
