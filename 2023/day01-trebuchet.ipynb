{
 "cells": [
  {
   "cell_type": "code",
   "execution_count": 1,
   "id": "263bba30",
   "metadata": {},
   "outputs": [],
   "source": [
    "import re"
   ]
  },
  {
   "cell_type": "code",
   "execution_count": 2,
   "id": "0aeb272c",
   "metadata": {},
   "outputs": [],
   "source": [
    "with open(\"data/day01.txt\", encoding=\"utf-8\") as f:\n",
    "    data = f.read()"
   ]
  },
  {
   "cell_type": "code",
   "execution_count": 3,
   "id": "8e253201",
   "metadata": {},
   "outputs": [],
   "source": [
    "raw_values = data.split(\"\\n\")"
   ]
  },
  {
   "cell_type": "markdown",
   "id": "adb64ba6",
   "metadata": {},
   "source": [
    "# Problem 1"
   ]
  },
  {
   "cell_type": "code",
   "execution_count": 4,
   "id": "8ab4f948",
   "metadata": {},
   "outputs": [
    {
     "data": {
      "text/plain": [
       "55834"
      ]
     },
     "execution_count": 4,
     "metadata": {},
     "output_type": "execute_result"
    }
   ],
   "source": [
    "total = 0\n",
    "for rv in raw_values:\n",
    "    value = re.findall(\"\\d\", rv)\n",
    "    total += int(value[0] + value[-1])\n",
    "total "
   ]
  },
  {
   "cell_type": "markdown",
   "id": "89561ca5",
   "metadata": {},
   "source": [
    "# Problem 2"
   ]
  },
  {
   "cell_type": "code",
   "execution_count": 5,
   "id": "43d0cd30",
   "metadata": {
    "scrolled": false
   },
   "outputs": [
    {
     "data": {
      "text/plain": [
       "53221"
      ]
     },
     "execution_count": 5,
     "metadata": {},
     "output_type": "execute_result"
    }
   ],
   "source": [
    "spelled = {\"one\": \"1\", \n",
    "           \"two\": \"2\", \n",
    "           \"three\": \"3\", \n",
    "           \"four\": \"4\", \n",
    "           \"five\": \"5\", \n",
    "           \"six\": \"6\", \n",
    "           \"seven\": \"7\", \n",
    "           \"eight\": \"8\", \n",
    "           \"nine\":\"9\"}\n",
    "total = 0\n",
    "res = []\n",
    "for rv in raw_values:\n",
    "    numbers = []\n",
    "    for str_number, number in spelled.items():\n",
    "        if str_number in rv:\n",
    "            ind = rv.find(str_number)\n",
    "            numbers.append((number, ind))\n",
    "            while True:\n",
    "                ind = rv.find(str_number, ind + 1)\n",
    "                if ind == -1:\n",
    "                    break\n",
    "                numbers.append((number, ind))\n",
    "\n",
    "        numbers += [(n, i) for i,n in enumerate(rv) if n.isdigit()]\n",
    "        numbers = sorted(numbers, key=lambda x: x[1])\n",
    "    \n",
    "    total += int(numbers[0][0] + numbers[-1][0])\n",
    "    res.append((rv, int(numbers[0][0] + numbers[-1][0])))\n",
    "total"
   ]
  }
 ],
 "metadata": {
  "kernelspec": {
   "display_name": "Python 3 (ipykernel)",
   "language": "python",
   "name": "python3"
  },
  "language_info": {
   "codemirror_mode": {
    "name": "ipython",
    "version": 3
   },
   "file_extension": ".py",
   "mimetype": "text/x-python",
   "name": "python",
   "nbconvert_exporter": "python",
   "pygments_lexer": "ipython3",
   "version": "3.8.17"
  }
 },
 "nbformat": 4,
 "nbformat_minor": 5
}
