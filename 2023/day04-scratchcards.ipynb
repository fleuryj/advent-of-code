{
 "cells": [
  {
   "cell_type": "code",
   "execution_count": 1,
   "id": "61a92272",
   "metadata": {},
   "outputs": [],
   "source": [
    "import re"
   ]
  },
  {
   "cell_type": "code",
   "execution_count": 2,
   "id": "62aacded",
   "metadata": {},
   "outputs": [],
   "source": [
    "with open(\"data/day04.txt\", encoding=\"utf-8\") as f:\n",
    "    data = f.read()"
   ]
  },
  {
   "cell_type": "code",
   "execution_count": 3,
   "id": "f076ffb2",
   "metadata": {},
   "outputs": [],
   "source": [
    "scratchcards = [card.split(\":\") for card in data.split(\"\\n\")]\n",
    "scratchcards = [(re.findall(\"\\d+\", c_id)[0], card.split(\"|\")) for c_id, card in scratchcards]\n",
    "scratchcards = {int(c_id): (re.sub(\"\\s+\", \",\", w.strip()).split(\",\"), re.sub(\"\\s+\", \",\", n.strip()).split(\",\")) for c_id, (w, n) in scratchcards}"
   ]
  },
  {
   "cell_type": "markdown",
   "id": "dfb9286b",
   "metadata": {},
   "source": [
    "# Problem 1"
   ]
  },
  {
   "cell_type": "code",
   "execution_count": 4,
   "id": "6ef37ad9",
   "metadata": {},
   "outputs": [
    {
     "data": {
      "text/plain": [
       "23235"
      ]
     },
     "execution_count": 4,
     "metadata": {},
     "output_type": "execute_result"
    }
   ],
   "source": [
    "total = 0\n",
    "for _, (winning_numbers, numbers) in scratchcards.items():\n",
    "    nb_winning = 0\n",
    "    won = [n for n in numbers if n in winning_numbers]\n",
    "    if (nb_won:= len(won)) > 0:\n",
    "        total += 2 ** (nb_won - 1)\n",
    "total"
   ]
  },
  {
   "cell_type": "markdown",
   "id": "1b296cae",
   "metadata": {},
   "source": [
    "# Problem 2"
   ]
  },
  {
   "cell_type": "code",
   "execution_count": 5,
   "id": "69e33ad3",
   "metadata": {},
   "outputs": [
    {
     "data": {
      "text/plain": [
       "5920640"
      ]
     },
     "execution_count": 5,
     "metadata": {},
     "output_type": "execute_result"
    }
   ],
   "source": [
    "cache = {}\n",
    "def scratch_card(card_id):\n",
    "    if card_id in cache.keys():\n",
    "        return cache[card_id]\n",
    "    winning_numbers, numbers = scratchcards[card_id]\n",
    "    won = [n for n in numbers if n in winning_numbers]\n",
    "    if len(won) == 0:\n",
    "        return 1\n",
    "    nb_won = 0\n",
    "    for won_card in [card_id + i + 1 for i in range(len(won))]:\n",
    "        nb_won += scratch_card(won_card)\n",
    "    cache[card_id] = nb_won + 1\n",
    "    return nb_won + 1\n",
    "\n",
    "total = 0\n",
    "for card_id in scratchcards.keys():\n",
    "    total += scratch_card(card_id) \n",
    "total"
   ]
  }
 ],
 "metadata": {
  "kernelspec": {
   "display_name": "Python 3 (ipykernel)",
   "language": "python",
   "name": "python3"
  },
  "language_info": {
   "codemirror_mode": {
    "name": "ipython",
    "version": 3
   },
   "file_extension": ".py",
   "mimetype": "text/x-python",
   "name": "python",
   "nbconvert_exporter": "python",
   "pygments_lexer": "ipython3",
   "version": "3.8.17"
  }
 },
 "nbformat": 4,
 "nbformat_minor": 5
}
